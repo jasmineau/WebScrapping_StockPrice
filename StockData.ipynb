{
 "cells": [
  {
   "cell_type": "markdown",
   "id": "cb8e8394",
   "metadata": {},
   "source": [
    "# Stock Web Scraper Project"
   ]
  },
  {
   "cell_type": "markdown",
   "id": "f7888590",
   "metadata": {},
   "source": [
    "Scrape data from yahoo finance and aastocks to: \n",
    "- analyze and find corrlations with the changing price among companies\n",
    "- collect real time stock prices and place data into csv file\n",
    "\n",
    "**Tool used:** \n",
    "- Web scrapping *(DataReader, BeautifulSoup, Requests)*\n",
    "- Time *(Datetime, time)*\n",
    "- Visualization *(Matplolib, Seaborn)*"
   ]
  },
  {
   "cell_type": "markdown",
   "id": "f7d56d51",
   "metadata": {},
   "source": [
    "### Import Libraries"
   ]
  },
  {
   "cell_type": "code",
   "execution_count": 1,
   "id": "21a252ea",
   "metadata": {},
   "outputs": [],
   "source": [
    "# !pip install pandas_datareader\n",
    "# collate data from online sources into dataframe\n",
    "from pandas_datareader import data"
   ]
  },
  {
   "cell_type": "code",
   "execution_count": 2,
   "id": "1665f905",
   "metadata": {},
   "outputs": [],
   "source": [
    "# !pip install yfinance\n",
    "# https://pypi.org/project/yfinance/\n",
    "import yfinance as yf"
   ]
  },
  {
   "cell_type": "code",
   "execution_count": 3,
   "id": "72531ccd",
   "metadata": {},
   "outputs": [],
   "source": [
    "from bs4 import BeautifulSoup\n",
    "import requests\n",
    "\n",
    "import time\n",
    "from datetime import datetime\n",
    "\n",
    "# sending emails\n",
    "import smtplib"
   ]
  },
  {
   "cell_type": "code",
   "execution_count": 4,
   "id": "070cf107",
   "metadata": {},
   "outputs": [],
   "source": [
    "import matplotlib.pyplot as plt\n",
    "import seaborn as sns\n",
    "%matplotlib inline"
   ]
  },
  {
   "cell_type": "code",
   "execution_count": 5,
   "id": "bb694a1e",
   "metadata": {},
   "outputs": [],
   "source": [
    "import csv"
   ]
  },
  {
   "cell_type": "markdown",
   "id": "4c6c4119",
   "metadata": {},
   "source": [
    "***"
   ]
  },
  {
   "cell_type": "markdown",
   "id": "d5b1718d",
   "metadata": {},
   "source": [
    "### DataReader Library\n",
    "collate 2021-2022 Facebook Stock Data from yahoo into dataframe"
   ]
  },
  {
   "cell_type": "code",
   "execution_count": 6,
   "id": "104ebf9c",
   "metadata": {},
   "outputs": [],
   "source": [
    "df_fb = data.DataReader('FB', 'yahoo', '2022')"
   ]
  },
  {
   "cell_type": "code",
   "execution_count": 7,
   "id": "b40a4653",
   "metadata": {},
   "outputs": [
    {
     "data": {
      "text/html": [
       "<div>\n",
       "<style scoped>\n",
       "    .dataframe tbody tr th:only-of-type {\n",
       "        vertical-align: middle;\n",
       "    }\n",
       "\n",
       "    .dataframe tbody tr th {\n",
       "        vertical-align: top;\n",
       "    }\n",
       "\n",
       "    .dataframe thead th {\n",
       "        text-align: right;\n",
       "    }\n",
       "</style>\n",
       "<table border=\"1\" class=\"dataframe\">\n",
       "  <thead>\n",
       "    <tr style=\"text-align: right;\">\n",
       "      <th></th>\n",
       "      <th>High</th>\n",
       "      <th>Low</th>\n",
       "      <th>Open</th>\n",
       "      <th>Close</th>\n",
       "      <th>Volume</th>\n",
       "      <th>Adj Close</th>\n",
       "    </tr>\n",
       "    <tr>\n",
       "      <th>Date</th>\n",
       "      <th></th>\n",
       "      <th></th>\n",
       "      <th></th>\n",
       "      <th></th>\n",
       "      <th></th>\n",
       "      <th></th>\n",
       "    </tr>\n",
       "  </thead>\n",
       "  <tbody>\n",
       "    <tr>\n",
       "      <th>2021-12-31</th>\n",
       "      <td>343.440002</td>\n",
       "      <td>336.269989</td>\n",
       "      <td>343.019989</td>\n",
       "      <td>336.350006</td>\n",
       "      <td>12870500</td>\n",
       "      <td>336.350006</td>\n",
       "    </tr>\n",
       "    <tr>\n",
       "      <th>2022-01-03</th>\n",
       "      <td>341.079987</td>\n",
       "      <td>337.190002</td>\n",
       "      <td>338.299988</td>\n",
       "      <td>338.540009</td>\n",
       "      <td>14537900</td>\n",
       "      <td>338.540009</td>\n",
       "    </tr>\n",
       "    <tr>\n",
       "      <th>2022-01-04</th>\n",
       "      <td>343.089996</td>\n",
       "      <td>331.869995</td>\n",
       "      <td>339.950012</td>\n",
       "      <td>336.529999</td>\n",
       "      <td>15998000</td>\n",
       "      <td>336.529999</td>\n",
       "    </tr>\n",
       "    <tr>\n",
       "      <th>2022-01-05</th>\n",
       "      <td>335.760010</td>\n",
       "      <td>323.839996</td>\n",
       "      <td>333.019989</td>\n",
       "      <td>324.170013</td>\n",
       "      <td>20564500</td>\n",
       "      <td>324.170013</td>\n",
       "    </tr>\n",
       "    <tr>\n",
       "      <th>2022-01-06</th>\n",
       "      <td>339.170013</td>\n",
       "      <td>322.720001</td>\n",
       "      <td>322.820007</td>\n",
       "      <td>332.459991</td>\n",
       "      <td>27962800</td>\n",
       "      <td>332.459991</td>\n",
       "    </tr>\n",
       "  </tbody>\n",
       "</table>\n",
       "</div>"
      ],
      "text/plain": [
       "                  High         Low        Open       Close    Volume  \\\n",
       "Date                                                                   \n",
       "2021-12-31  343.440002  336.269989  343.019989  336.350006  12870500   \n",
       "2022-01-03  341.079987  337.190002  338.299988  338.540009  14537900   \n",
       "2022-01-04  343.089996  331.869995  339.950012  336.529999  15998000   \n",
       "2022-01-05  335.760010  323.839996  333.019989  324.170013  20564500   \n",
       "2022-01-06  339.170013  322.720001  322.820007  332.459991  27962800   \n",
       "\n",
       "             Adj Close  \n",
       "Date                    \n",
       "2021-12-31  336.350006  \n",
       "2022-01-03  338.540009  \n",
       "2022-01-04  336.529999  \n",
       "2022-01-05  324.170013  \n",
       "2022-01-06  332.459991  "
      ]
     },
     "execution_count": 7,
     "metadata": {},
     "output_type": "execute_result"
    }
   ],
   "source": [
    "df_fb.head()"
   ]
  },
  {
   "cell_type": "code",
   "execution_count": 8,
   "id": "9c6d57fc",
   "metadata": {
    "scrolled": true
   },
   "outputs": [
    {
     "data": {
      "text/html": [
       "<div>\n",
       "<style scoped>\n",
       "    .dataframe tbody tr th:only-of-type {\n",
       "        vertical-align: middle;\n",
       "    }\n",
       "\n",
       "    .dataframe tbody tr th {\n",
       "        vertical-align: top;\n",
       "    }\n",
       "\n",
       "    .dataframe thead th {\n",
       "        text-align: right;\n",
       "    }\n",
       "</style>\n",
       "<table border=\"1\" class=\"dataframe\">\n",
       "  <thead>\n",
       "    <tr style=\"text-align: right;\">\n",
       "      <th></th>\n",
       "      <th>High</th>\n",
       "      <th>Low</th>\n",
       "      <th>Open</th>\n",
       "      <th>Close</th>\n",
       "      <th>Volume</th>\n",
       "      <th>Adj Close</th>\n",
       "    </tr>\n",
       "    <tr>\n",
       "      <th>Date</th>\n",
       "      <th></th>\n",
       "      <th></th>\n",
       "      <th></th>\n",
       "      <th></th>\n",
       "      <th></th>\n",
       "      <th></th>\n",
       "    </tr>\n",
       "  </thead>\n",
       "  <tbody>\n",
       "    <tr>\n",
       "      <th>2022-01-27</th>\n",
       "      <td>301.709991</td>\n",
       "      <td>294.260010</td>\n",
       "      <td>297.750000</td>\n",
       "      <td>294.640015</td>\n",
       "      <td>21629900</td>\n",
       "      <td>294.640015</td>\n",
       "    </tr>\n",
       "    <tr>\n",
       "      <th>2022-01-28</th>\n",
       "      <td>301.899994</td>\n",
       "      <td>293.029999</td>\n",
       "      <td>295.619995</td>\n",
       "      <td>301.709991</td>\n",
       "      <td>21871600</td>\n",
       "      <td>301.709991</td>\n",
       "    </tr>\n",
       "    <tr>\n",
       "      <th>2022-01-31</th>\n",
       "      <td>313.790009</td>\n",
       "      <td>299.320007</td>\n",
       "      <td>300.679993</td>\n",
       "      <td>313.260010</td>\n",
       "      <td>21579500</td>\n",
       "      <td>313.260010</td>\n",
       "    </tr>\n",
       "    <tr>\n",
       "      <th>2022-02-01</th>\n",
       "      <td>319.660004</td>\n",
       "      <td>312.119995</td>\n",
       "      <td>314.559998</td>\n",
       "      <td>319.000000</td>\n",
       "      <td>17895200</td>\n",
       "      <td>319.000000</td>\n",
       "    </tr>\n",
       "    <tr>\n",
       "      <th>2022-02-02</th>\n",
       "      <td>328.000000</td>\n",
       "      <td>321.551788</td>\n",
       "      <td>327.820007</td>\n",
       "      <td>325.440002</td>\n",
       "      <td>3836196</td>\n",
       "      <td>325.440002</td>\n",
       "    </tr>\n",
       "  </tbody>\n",
       "</table>\n",
       "</div>"
      ],
      "text/plain": [
       "                  High         Low        Open       Close    Volume  \\\n",
       "Date                                                                   \n",
       "2022-01-27  301.709991  294.260010  297.750000  294.640015  21629900   \n",
       "2022-01-28  301.899994  293.029999  295.619995  301.709991  21871600   \n",
       "2022-01-31  313.790009  299.320007  300.679993  313.260010  21579500   \n",
       "2022-02-01  319.660004  312.119995  314.559998  319.000000  17895200   \n",
       "2022-02-02  328.000000  321.551788  327.820007  325.440002   3836196   \n",
       "\n",
       "             Adj Close  \n",
       "Date                    \n",
       "2022-01-27  294.640015  \n",
       "2022-01-28  301.709991  \n",
       "2022-01-31  313.260010  \n",
       "2022-02-01  319.000000  \n",
       "2022-02-02  325.440002  "
      ]
     },
     "execution_count": 8,
     "metadata": {},
     "output_type": "execute_result"
    }
   ],
   "source": [
    "df_fb.tail()"
   ]
  },
  {
   "cell_type": "markdown",
   "id": "c0b3783f",
   "metadata": {},
   "source": [
    "***"
   ]
  },
  {
   "cell_type": "markdown",
   "id": "7ca9a184",
   "metadata": {},
   "source": [
    "# FAANG\n",
    "Download stock prices from yahoo finance library\n",
    "1. analyze all the prices from the big 5 tech companies\n",
    "2. find corrlations with the changing price among the companies"
   ]
  },
  {
   "cell_type": "markdown",
   "id": "ab936de0",
   "metadata": {},
   "source": [
    "### Give Current time using datetime library"
   ]
  },
  {
   "cell_type": "code",
   "execution_count": 9,
   "id": "3b731ed4",
   "metadata": {},
   "outputs": [],
   "source": [
    "now = datetime.now()"
   ]
  },
  {
   "cell_type": "code",
   "execution_count": 10,
   "id": "149f029c",
   "metadata": {},
   "outputs": [
    {
     "data": {
      "text/plain": [
       "datetime.datetime(2022, 2, 2, 22, 40, 23, 250975)"
      ]
     },
     "execution_count": 10,
     "metadata": {},
     "output_type": "execute_result"
    }
   ],
   "source": [
    "now"
   ]
  },
  {
   "cell_type": "markdown",
   "id": "b5b346b5",
   "metadata": {},
   "source": [
    "### Set start time to be 1 year ago"
   ]
  },
  {
   "cell_type": "code",
   "execution_count": 11,
   "id": "aabcccbd",
   "metadata": {},
   "outputs": [],
   "source": [
    "start = datetime(now.year-1, now.month, now.day)"
   ]
  },
  {
   "cell_type": "code",
   "execution_count": 12,
   "id": "0dd4f79d",
   "metadata": {},
   "outputs": [
    {
     "data": {
      "text/plain": [
       "datetime.datetime(2021, 2, 2, 0, 0)"
      ]
     },
     "execution_count": 12,
     "metadata": {},
     "output_type": "execute_result"
    }
   ],
   "source": [
    "start"
   ]
  },
  {
   "cell_type": "markdown",
   "id": "67e02d29",
   "metadata": {},
   "source": [
    "### Show FAANG Data from yahoo fiance"
   ]
  },
  {
   "cell_type": "code",
   "execution_count": 13,
   "id": "4d8ebfdd",
   "metadata": {},
   "outputs": [],
   "source": [
    "# Facebook, Amazon, Apple, Netflix, Google\n",
    "tickers = [\"FB\", \"AMZN\", \"AAPL\", \"NFLX\", \"GOOG\"]"
   ]
  },
  {
   "cell_type": "code",
   "execution_count": 14,
   "id": "de09860b",
   "metadata": {},
   "outputs": [
    {
     "name": "stdout",
     "output_type": "stream",
     "text": [
      "[*********************100%***********************]  5 of 5 completed\n"
     ]
    }
   ],
   "source": [
    "FAANG = yf.download(tickers,start, now)"
   ]
  },
  {
   "cell_type": "code",
   "execution_count": 15,
   "id": "d39ea4a3",
   "metadata": {
    "scrolled": true
   },
   "outputs": [
    {
     "data": {
      "text/html": [
       "<div>\n",
       "<style scoped>\n",
       "    .dataframe tbody tr th:only-of-type {\n",
       "        vertical-align: middle;\n",
       "    }\n",
       "\n",
       "    .dataframe tbody tr th {\n",
       "        vertical-align: top;\n",
       "    }\n",
       "\n",
       "    .dataframe thead tr th {\n",
       "        text-align: left;\n",
       "    }\n",
       "\n",
       "    .dataframe thead tr:last-of-type th {\n",
       "        text-align: right;\n",
       "    }\n",
       "</style>\n",
       "<table border=\"1\" class=\"dataframe\">\n",
       "  <thead>\n",
       "    <tr>\n",
       "      <th></th>\n",
       "      <th colspan=\"5\" halign=\"left\">Adj Close</th>\n",
       "      <th colspan=\"5\" halign=\"left\">Close</th>\n",
       "      <th>...</th>\n",
       "      <th colspan=\"5\" halign=\"left\">Open</th>\n",
       "      <th colspan=\"5\" halign=\"left\">Volume</th>\n",
       "    </tr>\n",
       "    <tr>\n",
       "      <th></th>\n",
       "      <th>AAPL</th>\n",
       "      <th>AMZN</th>\n",
       "      <th>FB</th>\n",
       "      <th>GOOG</th>\n",
       "      <th>NFLX</th>\n",
       "      <th>AAPL</th>\n",
       "      <th>AMZN</th>\n",
       "      <th>FB</th>\n",
       "      <th>GOOG</th>\n",
       "      <th>NFLX</th>\n",
       "      <th>...</th>\n",
       "      <th>AAPL</th>\n",
       "      <th>AMZN</th>\n",
       "      <th>FB</th>\n",
       "      <th>GOOG</th>\n",
       "      <th>NFLX</th>\n",
       "      <th>AAPL</th>\n",
       "      <th>AMZN</th>\n",
       "      <th>FB</th>\n",
       "      <th>GOOG</th>\n",
       "      <th>NFLX</th>\n",
       "    </tr>\n",
       "    <tr>\n",
       "      <th>Date</th>\n",
       "      <th></th>\n",
       "      <th></th>\n",
       "      <th></th>\n",
       "      <th></th>\n",
       "      <th></th>\n",
       "      <th></th>\n",
       "      <th></th>\n",
       "      <th></th>\n",
       "      <th></th>\n",
       "      <th></th>\n",
       "      <th></th>\n",
       "      <th></th>\n",
       "      <th></th>\n",
       "      <th></th>\n",
       "      <th></th>\n",
       "      <th></th>\n",
       "      <th></th>\n",
       "      <th></th>\n",
       "      <th></th>\n",
       "      <th></th>\n",
       "      <th></th>\n",
       "    </tr>\n",
       "  </thead>\n",
       "  <tbody>\n",
       "    <tr>\n",
       "      <th>2021-02-01</th>\n",
       "      <td>133.318130</td>\n",
       "      <td>3342.879883</td>\n",
       "      <td>262.010010</td>\n",
       "      <td>1901.349976</td>\n",
       "      <td>539.039978</td>\n",
       "      <td>134.139999</td>\n",
       "      <td>3342.879883</td>\n",
       "      <td>262.010010</td>\n",
       "      <td>1901.349976</td>\n",
       "      <td>539.039978</td>\n",
       "      <td>...</td>\n",
       "      <td>133.750000</td>\n",
       "      <td>3242.360107</td>\n",
       "      <td>259.519989</td>\n",
       "      <td>1853.569946</td>\n",
       "      <td>536.789978</td>\n",
       "      <td>106239800</td>\n",
       "      <td>4160200</td>\n",
       "      <td>22914300</td>\n",
       "      <td>1602200</td>\n",
       "      <td>3547500</td>\n",
       "    </tr>\n",
       "    <tr>\n",
       "      <th>2021-02-02</th>\n",
       "      <td>134.162918</td>\n",
       "      <td>3380.000000</td>\n",
       "      <td>267.079987</td>\n",
       "      <td>1927.510010</td>\n",
       "      <td>548.159973</td>\n",
       "      <td>134.990005</td>\n",
       "      <td>3380.000000</td>\n",
       "      <td>267.079987</td>\n",
       "      <td>1927.510010</td>\n",
       "      <td>548.159973</td>\n",
       "      <td>...</td>\n",
       "      <td>135.729996</td>\n",
       "      <td>3380.000000</td>\n",
       "      <td>264.000000</td>\n",
       "      <td>1922.560059</td>\n",
       "      <td>542.010010</td>\n",
       "      <td>83305400</td>\n",
       "      <td>7098600</td>\n",
       "      <td>17320800</td>\n",
       "      <td>2273700</td>\n",
       "      <td>3767600</td>\n",
       "    </tr>\n",
       "    <tr>\n",
       "      <th>2021-02-03</th>\n",
       "      <td>133.119354</td>\n",
       "      <td>3312.530029</td>\n",
       "      <td>266.649994</td>\n",
       "      <td>2070.070068</td>\n",
       "      <td>539.450012</td>\n",
       "      <td>133.940002</td>\n",
       "      <td>3312.530029</td>\n",
       "      <td>266.649994</td>\n",
       "      <td>2070.070068</td>\n",
       "      <td>539.450012</td>\n",
       "      <td>...</td>\n",
       "      <td>135.759995</td>\n",
       "      <td>3425.010010</td>\n",
       "      <td>265.619995</td>\n",
       "      <td>2073.000000</td>\n",
       "      <td>550.169983</td>\n",
       "      <td>89880900</td>\n",
       "      <td>7088800</td>\n",
       "      <td>14223400</td>\n",
       "      <td>4118200</td>\n",
       "      <td>3172300</td>\n",
       "    </tr>\n",
       "    <tr>\n",
       "      <th>2021-02-04</th>\n",
       "      <td>136.548203</td>\n",
       "      <td>3331.000000</td>\n",
       "      <td>266.489990</td>\n",
       "      <td>2062.370117</td>\n",
       "      <td>552.159973</td>\n",
       "      <td>137.389999</td>\n",
       "      <td>3331.000000</td>\n",
       "      <td>266.489990</td>\n",
       "      <td>2062.370117</td>\n",
       "      <td>552.159973</td>\n",
       "      <td>...</td>\n",
       "      <td>136.300003</td>\n",
       "      <td>3330.000000</td>\n",
       "      <td>267.010010</td>\n",
       "      <td>2068.889893</td>\n",
       "      <td>539.809998</td>\n",
       "      <td>84183100</td>\n",
       "      <td>3670700</td>\n",
       "      <td>16060000</td>\n",
       "      <td>1852300</td>\n",
       "      <td>5164500</td>\n",
       "    </tr>\n",
       "    <tr>\n",
       "      <th>2021-02-05</th>\n",
       "      <td>136.125168</td>\n",
       "      <td>3352.149902</td>\n",
       "      <td>268.100006</td>\n",
       "      <td>2098.000000</td>\n",
       "      <td>550.789978</td>\n",
       "      <td>136.759995</td>\n",
       "      <td>3352.149902</td>\n",
       "      <td>268.100006</td>\n",
       "      <td>2098.000000</td>\n",
       "      <td>550.789978</td>\n",
       "      <td>...</td>\n",
       "      <td>137.350006</td>\n",
       "      <td>3319.000000</td>\n",
       "      <td>266.799988</td>\n",
       "      <td>2070.000000</td>\n",
       "      <td>552.260010</td>\n",
       "      <td>75693800</td>\n",
       "      <td>3620800</td>\n",
       "      <td>12454400</td>\n",
       "      <td>1535100</td>\n",
       "      <td>2376200</td>\n",
       "    </tr>\n",
       "  </tbody>\n",
       "</table>\n",
       "<p>5 rows × 30 columns</p>\n",
       "</div>"
      ],
      "text/plain": [
       "             Adj Close                                                    \\\n",
       "                  AAPL         AMZN          FB         GOOG        NFLX   \n",
       "Date                                                                       \n",
       "2021-02-01  133.318130  3342.879883  262.010010  1901.349976  539.039978   \n",
       "2021-02-02  134.162918  3380.000000  267.079987  1927.510010  548.159973   \n",
       "2021-02-03  133.119354  3312.530029  266.649994  2070.070068  539.450012   \n",
       "2021-02-04  136.548203  3331.000000  266.489990  2062.370117  552.159973   \n",
       "2021-02-05  136.125168  3352.149902  268.100006  2098.000000  550.789978   \n",
       "\n",
       "                 Close                                                    ...  \\\n",
       "                  AAPL         AMZN          FB         GOOG        NFLX  ...   \n",
       "Date                                                                      ...   \n",
       "2021-02-01  134.139999  3342.879883  262.010010  1901.349976  539.039978  ...   \n",
       "2021-02-02  134.990005  3380.000000  267.079987  1927.510010  548.159973  ...   \n",
       "2021-02-03  133.940002  3312.530029  266.649994  2070.070068  539.450012  ...   \n",
       "2021-02-04  137.389999  3331.000000  266.489990  2062.370117  552.159973  ...   \n",
       "2021-02-05  136.759995  3352.149902  268.100006  2098.000000  550.789978  ...   \n",
       "\n",
       "                  Open                                                    \\\n",
       "                  AAPL         AMZN          FB         GOOG        NFLX   \n",
       "Date                                                                       \n",
       "2021-02-01  133.750000  3242.360107  259.519989  1853.569946  536.789978   \n",
       "2021-02-02  135.729996  3380.000000  264.000000  1922.560059  542.010010   \n",
       "2021-02-03  135.759995  3425.010010  265.619995  2073.000000  550.169983   \n",
       "2021-02-04  136.300003  3330.000000  267.010010  2068.889893  539.809998   \n",
       "2021-02-05  137.350006  3319.000000  266.799988  2070.000000  552.260010   \n",
       "\n",
       "               Volume                                       \n",
       "                 AAPL     AMZN        FB     GOOG     NFLX  \n",
       "Date                                                        \n",
       "2021-02-01  106239800  4160200  22914300  1602200  3547500  \n",
       "2021-02-02   83305400  7098600  17320800  2273700  3767600  \n",
       "2021-02-03   89880900  7088800  14223400  4118200  3172300  \n",
       "2021-02-04   84183100  3670700  16060000  1852300  5164500  \n",
       "2021-02-05   75693800  3620800  12454400  1535100  2376200  \n",
       "\n",
       "[5 rows x 30 columns]"
      ]
     },
     "execution_count": 15,
     "metadata": {},
     "output_type": "execute_result"
    }
   ],
   "source": [
    "FAANG.head()"
   ]
  },
  {
   "cell_type": "markdown",
   "id": "6d984a7f",
   "metadata": {},
   "source": [
    "### Show the max close price and date of the year"
   ]
  },
  {
   "cell_type": "code",
   "execution_count": 16,
   "id": "5e6c02db",
   "metadata": {},
   "outputs": [
    {
     "data": {
      "text/plain": [
       "AAPL     182.009995\n",
       "AMZN    3731.409912\n",
       "FB       382.179993\n",
       "GOOG    3014.179932\n",
       "NFLX     691.690002\n",
       "dtype: float64"
      ]
     },
     "execution_count": 16,
     "metadata": {},
     "output_type": "execute_result"
    }
   ],
   "source": [
    "FAANG['Close'].max()"
   ]
  },
  {
   "cell_type": "code",
   "execution_count": 17,
   "id": "45a9f023",
   "metadata": {
    "scrolled": true
   },
   "outputs": [
    {
     "data": {
      "text/plain": [
       "AAPL   2022-01-03\n",
       "AMZN   2021-07-08\n",
       "FB     2021-09-07\n",
       "GOOG   2021-11-18\n",
       "NFLX   2021-11-17\n",
       "dtype: datetime64[ns]"
      ]
     },
     "execution_count": 17,
     "metadata": {},
     "output_type": "execute_result"
    }
   ],
   "source": [
    "FAANG['Close'].idxmax()"
   ]
  },
  {
   "cell_type": "markdown",
   "id": "0b744995",
   "metadata": {},
   "source": [
    "### Use plot to visualize Close Price"
   ]
  },
  {
   "cell_type": "code",
   "execution_count": 18,
   "id": "91a246f3",
   "metadata": {},
   "outputs": [
    {
     "data": {
      "text/html": [
       "<div>\n",
       "<style scoped>\n",
       "    .dataframe tbody tr th:only-of-type {\n",
       "        vertical-align: middle;\n",
       "    }\n",
       "\n",
       "    .dataframe tbody tr th {\n",
       "        vertical-align: top;\n",
       "    }\n",
       "\n",
       "    .dataframe thead th {\n",
       "        text-align: right;\n",
       "    }\n",
       "</style>\n",
       "<table border=\"1\" class=\"dataframe\">\n",
       "  <thead>\n",
       "    <tr style=\"text-align: right;\">\n",
       "      <th></th>\n",
       "      <th>AAPL</th>\n",
       "      <th>AMZN</th>\n",
       "      <th>FB</th>\n",
       "      <th>GOOG</th>\n",
       "      <th>NFLX</th>\n",
       "    </tr>\n",
       "    <tr>\n",
       "      <th>Date</th>\n",
       "      <th></th>\n",
       "      <th></th>\n",
       "      <th></th>\n",
       "      <th></th>\n",
       "      <th></th>\n",
       "    </tr>\n",
       "  </thead>\n",
       "  <tbody>\n",
       "    <tr>\n",
       "      <th>2021-02-01</th>\n",
       "      <td>134.139999</td>\n",
       "      <td>3342.879883</td>\n",
       "      <td>262.010010</td>\n",
       "      <td>1901.349976</td>\n",
       "      <td>539.039978</td>\n",
       "    </tr>\n",
       "    <tr>\n",
       "      <th>2021-02-02</th>\n",
       "      <td>134.990005</td>\n",
       "      <td>3380.000000</td>\n",
       "      <td>267.079987</td>\n",
       "      <td>1927.510010</td>\n",
       "      <td>548.159973</td>\n",
       "    </tr>\n",
       "    <tr>\n",
       "      <th>2021-02-03</th>\n",
       "      <td>133.940002</td>\n",
       "      <td>3312.530029</td>\n",
       "      <td>266.649994</td>\n",
       "      <td>2070.070068</td>\n",
       "      <td>539.450012</td>\n",
       "    </tr>\n",
       "    <tr>\n",
       "      <th>2021-02-04</th>\n",
       "      <td>137.389999</td>\n",
       "      <td>3331.000000</td>\n",
       "      <td>266.489990</td>\n",
       "      <td>2062.370117</td>\n",
       "      <td>552.159973</td>\n",
       "    </tr>\n",
       "    <tr>\n",
       "      <th>2021-02-05</th>\n",
       "      <td>136.759995</td>\n",
       "      <td>3352.149902</td>\n",
       "      <td>268.100006</td>\n",
       "      <td>2098.000000</td>\n",
       "      <td>550.789978</td>\n",
       "    </tr>\n",
       "  </tbody>\n",
       "</table>\n",
       "</div>"
      ],
      "text/plain": [
       "                  AAPL         AMZN          FB         GOOG        NFLX\n",
       "Date                                                                    \n",
       "2021-02-01  134.139999  3342.879883  262.010010  1901.349976  539.039978\n",
       "2021-02-02  134.990005  3380.000000  267.079987  1927.510010  548.159973\n",
       "2021-02-03  133.940002  3312.530029  266.649994  2070.070068  539.450012\n",
       "2021-02-04  137.389999  3331.000000  266.489990  2062.370117  552.159973\n",
       "2021-02-05  136.759995  3352.149902  268.100006  2098.000000  550.789978"
      ]
     },
     "execution_count": 18,
     "metadata": {},
     "output_type": "execute_result"
    }
   ],
   "source": [
    "FAANG['Close'].head()"
   ]
  },
  {
   "cell_type": "code",
   "execution_count": 19,
   "id": "9d2f16d3",
   "metadata": {
    "scrolled": true
   },
   "outputs": [
    {
     "data": {
      "text/plain": [
       "<matplotlib.legend.Legend at 0x7f9b503a67c0>"
      ]
     },
     "execution_count": 19,
     "metadata": {},
     "output_type": "execute_result"
    },
    {
     "data": {
      "image/png": "[encoded data removed]",
      "text/plain": [
       "<Figure size 1152x360 with 1 Axes>"
      ]
     },
     "metadata": {
      "needs_background": "light"
     },
     "output_type": "display_data"
    }
   ],
   "source": [
    "close = FAANG['Close']\n",
    "plt.figure(figsize=(16,5)) \n",
    "close[\"FB\"].plot()\n",
    "close['AMZN'].plot()\n",
    "close['AAPL'].plot()\n",
    "close['NFLX'].plot()\n",
    "close['GOOG'].plot()\n",
    "\n",
    "plt.xlabel(\"Date\", fontsize=12)\n",
    "plt.ylabel(\"USD\", fontsize=12)\n",
    "plt.title(\"FAANG Stock Price\", fontsize=20)\n",
    "plt.legend(bbox_to_anchor=(1, 1),loc='upper left')"
   ]
  },
  {
   "cell_type": "markdown",
   "id": "7a1e6740",
   "metadata": {},
   "source": [
    "### Use heatmap to visualize the correlation among the companies"
   ]
  },
  {
   "cell_type": "code",
   "execution_count": 20,
   "id": "2bbd5973",
   "metadata": {},
   "outputs": [
    {
     "data": {
      "text/html": [
       "<div>\n",
       "<style scoped>\n",
       "    .dataframe tbody tr th:only-of-type {\n",
       "        vertical-align: middle;\n",
       "    }\n",
       "\n",
       "    .dataframe tbody tr th {\n",
       "        vertical-align: top;\n",
       "    }\n",
       "\n",
       "    .dataframe thead th {\n",
       "        text-align: right;\n",
       "    }\n",
       "</style>\n",
       "<table border=\"1\" class=\"dataframe\">\n",
       "  <thead>\n",
       "    <tr style=\"text-align: right;\">\n",
       "      <th></th>\n",
       "      <th>AAPL</th>\n",
       "      <th>AMZN</th>\n",
       "      <th>FB</th>\n",
       "      <th>GOOG</th>\n",
       "      <th>NFLX</th>\n",
       "    </tr>\n",
       "    <tr>\n",
       "      <th>Date</th>\n",
       "      <th></th>\n",
       "      <th></th>\n",
       "      <th></th>\n",
       "      <th></th>\n",
       "      <th></th>\n",
       "    </tr>\n",
       "  </thead>\n",
       "  <tbody>\n",
       "    <tr>\n",
       "      <th>2021-02-01</th>\n",
       "      <td>NaN</td>\n",
       "      <td>NaN</td>\n",
       "      <td>NaN</td>\n",
       "      <td>NaN</td>\n",
       "      <td>NaN</td>\n",
       "    </tr>\n",
       "    <tr>\n",
       "      <th>2021-02-02</th>\n",
       "      <td>0.006337</td>\n",
       "      <td>0.011104</td>\n",
       "      <td>0.019350</td>\n",
       "      <td>0.013759</td>\n",
       "      <td>0.016919</td>\n",
       "    </tr>\n",
       "    <tr>\n",
       "      <th>2021-02-03</th>\n",
       "      <td>-0.007778</td>\n",
       "      <td>-0.019962</td>\n",
       "      <td>-0.001610</td>\n",
       "      <td>0.073961</td>\n",
       "      <td>-0.015889</td>\n",
       "    </tr>\n",
       "    <tr>\n",
       "      <th>2021-02-04</th>\n",
       "      <td>0.025758</td>\n",
       "      <td>0.005576</td>\n",
       "      <td>-0.000600</td>\n",
       "      <td>-0.003720</td>\n",
       "      <td>0.023561</td>\n",
       "    </tr>\n",
       "    <tr>\n",
       "      <th>2021-02-05</th>\n",
       "      <td>-0.004586</td>\n",
       "      <td>0.006349</td>\n",
       "      <td>0.006042</td>\n",
       "      <td>0.017276</td>\n",
       "      <td>-0.002481</td>\n",
       "    </tr>\n",
       "  </tbody>\n",
       "</table>\n",
       "</div>"
      ],
      "text/plain": [
       "                AAPL      AMZN        FB      GOOG      NFLX\n",
       "Date                                                        \n",
       "2021-02-01       NaN       NaN       NaN       NaN       NaN\n",
       "2021-02-02  0.006337  0.011104  0.019350  0.013759  0.016919\n",
       "2021-02-03 -0.007778 -0.019962 -0.001610  0.073961 -0.015889\n",
       "2021-02-04  0.025758  0.005576 -0.000600 -0.003720  0.023561\n",
       "2021-02-05 -0.004586  0.006349  0.006042  0.017276 -0.002481"
      ]
     },
     "execution_count": 20,
     "metadata": {},
     "output_type": "execute_result"
    }
   ],
   "source": [
    "# compute percentage change between today and yeserday close price\n",
    "FAANG['Close'].pct_change().head()"
   ]
  },
  {
   "cell_type": "code",
   "execution_count": 21,
   "id": "acac170b",
   "metadata": {
    "scrolled": true
   },
   "outputs": [],
   "source": [
    "df1 = FAANG['Close'].pct_change().corr()"
   ]
  },
  {
   "cell_type": "code",
   "execution_count": 22,
   "id": "6337a7b3",
   "metadata": {},
   "outputs": [
    {
     "data": {
      "text/html": [
       "<div>\n",
       "<style scoped>\n",
       "    .dataframe tbody tr th:only-of-type {\n",
       "        vertical-align: middle;\n",
       "    }\n",
       "\n",
       "    .dataframe tbody tr th {\n",
       "        vertical-align: top;\n",
       "    }\n",
       "\n",
       "    .dataframe thead th {\n",
       "        text-align: right;\n",
       "    }\n",
       "</style>\n",
       "<table border=\"1\" class=\"dataframe\">\n",
       "  <thead>\n",
       "    <tr style=\"text-align: right;\">\n",
       "      <th></th>\n",
       "      <th>AAPL</th>\n",
       "      <th>AMZN</th>\n",
       "      <th>FB</th>\n",
       "      <th>GOOG</th>\n",
       "      <th>NFLX</th>\n",
       "    </tr>\n",
       "  </thead>\n",
       "  <tbody>\n",
       "    <tr>\n",
       "      <th>AAPL</th>\n",
       "      <td>1.000000</td>\n",
       "      <td>0.607085</td>\n",
       "      <td>0.483193</td>\n",
       "      <td>0.543743</td>\n",
       "      <td>0.349928</td>\n",
       "    </tr>\n",
       "    <tr>\n",
       "      <th>AMZN</th>\n",
       "      <td>0.607085</td>\n",
       "      <td>1.000000</td>\n",
       "      <td>0.545548</td>\n",
       "      <td>0.559600</td>\n",
       "      <td>0.466479</td>\n",
       "    </tr>\n",
       "    <tr>\n",
       "      <th>FB</th>\n",
       "      <td>0.483193</td>\n",
       "      <td>0.545548</td>\n",
       "      <td>1.000000</td>\n",
       "      <td>0.563371</td>\n",
       "      <td>0.434105</td>\n",
       "    </tr>\n",
       "    <tr>\n",
       "      <th>GOOG</th>\n",
       "      <td>0.543743</td>\n",
       "      <td>0.559600</td>\n",
       "      <td>0.563371</td>\n",
       "      <td>1.000000</td>\n",
       "      <td>0.323908</td>\n",
       "    </tr>\n",
       "    <tr>\n",
       "      <th>NFLX</th>\n",
       "      <td>0.349928</td>\n",
       "      <td>0.466479</td>\n",
       "      <td>0.434105</td>\n",
       "      <td>0.323908</td>\n",
       "      <td>1.000000</td>\n",
       "    </tr>\n",
       "  </tbody>\n",
       "</table>\n",
       "</div>"
      ],
      "text/plain": [
       "          AAPL      AMZN        FB      GOOG      NFLX\n",
       "AAPL  1.000000  0.607085  0.483193  0.543743  0.349928\n",
       "AMZN  0.607085  1.000000  0.545548  0.559600  0.466479\n",
       "FB    0.483193  0.545548  1.000000  0.563371  0.434105\n",
       "GOOG  0.543743  0.559600  0.563371  1.000000  0.323908\n",
       "NFLX  0.349928  0.466479  0.434105  0.323908  1.000000"
      ]
     },
     "execution_count": 22,
     "metadata": {},
     "output_type": "execute_result"
    }
   ],
   "source": [
    "df1 "
   ]
  },
  {
   "cell_type": "code",
   "execution_count": 23,
   "id": "db684a16",
   "metadata": {},
   "outputs": [
    {
     "data": {
      "text/plain": [
       "Text(51.0, 0.5, 'FAANG')"
      ]
     },
     "execution_count": 23,
     "metadata": {},
     "output_type": "execute_result"
    },
    {
     "data": {
      "image/png": "[encoded data removed]",
      "text/plain": [
       "<Figure size 576x288 with 2 Axes>"
      ]
     },
     "metadata": {
      "needs_background": "light"
     },
     "output_type": "display_data"
    }
   ],
   "source": [
    "plt.figure(figsize=(8,4))\n",
    "sns.heatmap(df1,annot=True)\n",
    "\n",
    "plt.title('Correlation Matrix for FAANG')\n",
    "plt.xlabel('FAANG')\n",
    "plt.ylabel('FAANG')"
   ]
  },
  {
   "cell_type": "markdown",
   "id": "09ba373a",
   "metadata": {},
   "source": [
    "### Apple and Amazon have a relatively higher corrlation, with a correlation of 0.6"
   ]
  },
  {
   "cell_type": "markdown",
   "id": "c32c9328",
   "metadata": {},
   "source": [
    "***"
   ]
  },
  {
   "cell_type": "markdown",
   "id": "13a021e0",
   "metadata": {},
   "source": [
    "# AA stock"
   ]
  },
  {
   "cell_type": "markdown",
   "id": "1c50d253",
   "metadata": {},
   "source": [
    "Use Python package requests and BeautifulSoup to scrape stock prices from aastocks.com\n",
    "1. Locate the API\n",
    "2. Copy request header from developer tools\n",
    "3. Put the request into BeautifulSoup\n",
    "4. Use css selector to find stock price"
   ]
  },
  {
   "cell_type": "code",
   "execution_count": 64,
   "id": "18c906fd",
   "metadata": {},
   "outputs": [],
   "source": [
    "# Alibaba (9988)\n",
    "url = 'http://www.aastocks.com/tc/stocks/quote/quick-quote.aspx?symbol=09988'\n",
    "\n",
    "# request header\n",
    "# user-Agent: create illusion that we are from the browser environment\n",
    "# Referer: identify the address of the webpage which is linked to this requested resource\n",
    "\n",
    "headers = {\n",
    "        \"User-Agent\":\"Mozilla/5.0 (Macintosh; Intel Mac OS X 10_15_7) AppleWebKit/537.36 (KHTML, like Gecko) Chrome/96.0.4664.110 Safari/537.36\",\n",
    "        \"Referer\":\"http://www.aastocks.com/tc/\"}"
   ]
  },
  {
   "cell_type": "code",
   "execution_count": 56,
   "id": "04f535e4",
   "metadata": {},
   "outputs": [],
   "source": [
    "# Connect to Website and pull in Data\n",
    "session = requests.session()\n",
    "req = session.get(url, headers = headers)"
   ]
  },
  {
   "cell_type": "code",
   "execution_count": 57,
   "id": "682a93b9",
   "metadata": {},
   "outputs": [
    {
     "data": {
      "text/plain": [
       "200"
      ]
     },
     "execution_count": 57,
     "metadata": {},
     "output_type": "execute_result"
    }
   ],
   "source": [
    "# Check if request succesfully\n",
    "req.status_code"
   ]
  },
  {
   "cell_type": "markdown",
   "id": "5ffc5d75",
   "metadata": {},
   "source": [
    "### Pass the results into BeautifulSoup"
   ]
  },
  {
   "cell_type": "code",
   "execution_count": 59,
   "id": "48458dd9",
   "metadata": {},
   "outputs": [],
   "source": [
    "soup = BeautifulSoup(req.text)"
   ]
  },
  {
   "cell_type": "code",
   "execution_count": 60,
   "id": "85b74b91",
   "metadata": {
    "scrolled": false
   },
   "outputs": [],
   "source": [
    "soup2 = BeautifulSoup(soup.prettify(),'html.parser')"
   ]
  },
  {
   "cell_type": "markdown",
   "id": "fe1c9a97",
   "metadata": {},
   "source": [
    "### Extract Stock Name"
   ]
  },
  {
   "cell_type": "code",
   "execution_count": 62,
   "id": "f7113d4e",
   "metadata": {},
   "outputs": [],
   "source": [
    "StockName = soup.find('a',{'class':'a17 cls'}).text.strip()"
   ]
  },
  {
   "cell_type": "code",
   "execution_count": 63,
   "id": "a4054841",
   "metadata": {},
   "outputs": [
    {
     "data": {
      "text/plain": [
       "'美團－Ｗ'"
      ]
     },
     "execution_count": 63,
     "metadata": {},
     "output_type": "execute_result"
    }
   ],
   "source": [
    "StockName"
   ]
  },
  {
   "cell_type": "markdown",
   "id": "d522bfbb",
   "metadata": {},
   "source": [
    "### Extract Stock Price"
   ]
  },
  {
   "cell_type": "code",
   "execution_count": 33,
   "id": "1884ed57",
   "metadata": {
    "scrolled": true
   },
   "outputs": [
    {
     "data": {
      "text/plain": [
       "[<span style=\"margin:0px 3px;\">(</span>,\n",
       " <span class=\"ss1 lbl_l pt\" id=\"btnIndex\">指數</span>,\n",
       " <span style=\"margin:0px 3px;\">|</span>,\n",
       " <span class=\"ss1 lbl_l pt\" id=\"btnCategory\">行業</span>,\n",
       " <span style=\"margin:0px 3px;\">)</span>,\n",
       " <span class=\"9.d0\"><span class=\"0779f0e.7\"><span class=\"1a90.e6d\"><span class=\"pos\"><span class=\"arrowUpDn\">▲</span>114.000</span></span></span></span>,\n",
       " <span class=\"0779f0e.7\"><span class=\"1a90.e6d\"><span class=\"pos\"><span class=\"arrowUpDn\">▲</span>114.000</span></span></span>,\n",
       " <span class=\"1a90.e6d\"><span class=\"pos\"><span class=\"arrowUpDn\">▲</span>114.000</span></span>,\n",
       " <span class=\"pos\"><span class=\"arrowUpDn\">▲</span>114.000</span>,\n",
       " <span class=\"arrowUpDn\">▲</span>,\n",
       " <span class=\"casvcm\"></span>,\n",
       " <span class=\"pos\"><span class=\"arrowUpDn\">▲</span>4.000</span>,\n",
       " <span class=\"arrowUpDn\">▲</span>,\n",
       " <span class=\"pos\"><span class=\"arrowUpDn\">▲</span>3.636</span>,\n",
       " <span class=\"arrowUpDn\">▲</span>,\n",
       " <span class=\"pos\"><span style=\"font-size:20px\">%</span></span>,\n",
       " <span style=\"font-size:20px\">%</span>,\n",
       " <span class=\"unit\">千萬</span>,\n",
       " <span class=\"unit\">億</span>,\n",
       " <span class=\"cls\">2022/01/31 12:08</span>,\n",
       " <span class=\"pos\">+4.000</span>,\n",
       " <span class=\"pos\">+3.636%</span>,\n",
       " <span class=\"market\">US</span>]"
      ]
     },
     "execution_count": 33,
     "metadata": {},
     "output_type": "execute_result"
    }
   ],
   "source": [
    "soup.select(\".content span\")"
   ]
  },
  {
   "cell_type": "code",
   "execution_count": 34,
   "id": "63b5f8ad",
   "metadata": {},
   "outputs": [
    {
     "data": {
      "text/plain": [
       "<span class=\"0779f0e.7\"><span class=\"1a90.e6d\"><span class=\"pos\"><span class=\"arrowUpDn\">▲</span>114.000</span></span></span>"
      ]
     },
     "execution_count": 34,
     "metadata": {},
     "output_type": "execute_result"
    }
   ],
   "source": [
    "soup.select(\".content span\")[6]"
   ]
  },
  {
   "cell_type": "code",
   "execution_count": 35,
   "id": "0d7d79d1",
   "metadata": {},
   "outputs": [
    {
     "data": {
      "text/plain": [
       "'▲114.000'"
      ]
     },
     "execution_count": 35,
     "metadata": {},
     "output_type": "execute_result"
    }
   ],
   "source": [
    "soup.select(\".content span\")[6].text"
   ]
  },
  {
   "cell_type": "code",
   "execution_count": 36,
   "id": "845575c4",
   "metadata": {},
   "outputs": [
    {
     "data": {
      "text/plain": [
       "'114.000'"
      ]
     },
     "execution_count": 36,
     "metadata": {},
     "output_type": "execute_result"
    }
   ],
   "source": [
    "soup.select(\".content span\")[6].text[1:]"
   ]
  },
  {
   "cell_type": "code",
   "execution_count": 37,
   "id": "5b007de0",
   "metadata": {},
   "outputs": [],
   "source": [
    "Price = soup.select(\".content span\")[6].text[1:]"
   ]
  },
  {
   "cell_type": "code",
   "execution_count": 38,
   "id": "c042a813",
   "metadata": {},
   "outputs": [
    {
     "data": {
      "text/plain": [
       "'114.000'"
      ]
     },
     "execution_count": 38,
     "metadata": {},
     "output_type": "execute_result"
    }
   ],
   "source": [
    "Price"
   ]
  },
  {
   "cell_type": "markdown",
   "id": "c723814a",
   "metadata": {},
   "source": [
    "### Extract Multiple Stock Prices Using Function"
   ]
  },
  {
   "cell_type": "code",
   "execution_count": 39,
   "id": "d2ad2c1d",
   "metadata": {},
   "outputs": [],
   "source": [
    "def getStockPrice(num):\n",
    "    url = 'http://www.aastocks.com/tc/stocks/quote/quick-quote.aspx?symbol={}'.format(num)\n",
    "    session = requests.session()\n",
    "    headers = {\n",
    "    \"User-Agent\":\"Mozilla/5.0 (Macintosh; Intel Mac OS X 10_15_7) AppleWebKit/537.36 (KHTML, like Gecko) Chrome/96.0.4664.110 Safari/537.36\",\n",
    "\n",
    "    \"Referer\":\"http://www.aastocks.com/tc/\"\n",
    "    }\n",
    "    req = session.get(url, headers = headers)\n",
    "    soup = BeautifulSoup(req.text)\n",
    "    return soup.select(\".content span\")[6].text[1:]"
   ]
  },
  {
   "cell_type": "code",
   "execution_count": 40,
   "id": "730254ba",
   "metadata": {},
   "outputs": [
    {
     "name": "stdout",
     "output_type": "stream",
     "text": [
      "9988 : 114.000\n",
      "700 : 472.000\n",
      "3690 : 219.600\n",
      "5 : 55.150\n"
     ]
    }
   ],
   "source": [
    "stock = ['9988','700','3690','5']\n",
    "\n",
    "for stockNum in stock:\n",
    "    print('{} : {}'.format(stockNum, getStockPrice(stockNum)))"
   ]
  },
  {
   "cell_type": "markdown",
   "id": "f2d80056",
   "metadata": {},
   "source": [
    "### Create csv and Insert data into csv"
   ]
  },
  {
   "cell_type": "code",
   "execution_count": 51,
   "id": "b4f1f8da",
   "metadata": {},
   "outputs": [],
   "source": [
    "#Set today date\n",
    "today = ('{}-{}-{}').format(now.year,now.month,now.day)"
   ]
  },
  {
   "cell_type": "code",
   "execution_count": 45,
   "id": "68e6c4ba",
   "metadata": {},
   "outputs": [],
   "source": [
    "header = ['Date','Stock Name','Closing Price']\n",
    "data = [today,StockName, Price]\n",
    "\n",
    "with open('StockPriceWebScrapper.csv', 'w',newline='',encoding='UTF8') as f:\n",
    "    writer = csv.writer(f)\n",
    "    writer.writerow(header)\n",
    "    writer.writerow(data)"
   ]
  },
  {
   "cell_type": "code",
   "execution_count": 54,
   "id": "fe37f6b4",
   "metadata": {},
   "outputs": [
    {
     "data": {
      "text/html": [
       "<div>\n",
       "<style scoped>\n",
       "    .dataframe tbody tr th:only-of-type {\n",
       "        vertical-align: middle;\n",
       "    }\n",
       "\n",
       "    .dataframe tbody tr th {\n",
       "        vertical-align: top;\n",
       "    }\n",
       "\n",
       "    .dataframe thead th {\n",
       "        text-align: right;\n",
       "    }\n",
       "</style>\n",
       "<table border=\"1\" class=\"dataframe\">\n",
       "  <thead>\n",
       "    <tr style=\"text-align: right;\">\n",
       "      <th></th>\n",
       "      <th>Date</th>\n",
       "      <th>Stock Name</th>\n",
       "      <th>Closing Price</th>\n",
       "    </tr>\n",
       "  </thead>\n",
       "  <tbody>\n",
       "    <tr>\n",
       "      <th>0</th>\n",
       "      <td>2022-2-2</td>\n",
       "      <td>阿里巴巴－ＳＷ</td>\n",
       "      <td>114.0</td>\n",
       "    </tr>\n",
       "  </tbody>\n",
       "</table>\n",
       "</div>"
      ],
      "text/plain": [
       "       Date Stock Name  Closing Price\n",
       "0  2022-2-2    阿里巴巴－ＳＷ          114.0"
      ]
     },
     "execution_count": 54,
     "metadata": {},
     "output_type": "execute_result"
    }
   ],
   "source": [
    "import pandas as pd\n",
    "pd.read_csv('StockPriceWebScrapper.csv')"
   ]
  },
  {
   "cell_type": "code",
   "execution_count": null,
   "id": "9c9de4b1",
   "metadata": {},
   "outputs": [],
   "source": [
    "### Append data to the csv\n",
    "\n",
    "with open('StockPriceWebScrapper.csv', 'w',newline='',encoding='UTF8') as f:\n",
    "    writer = csv.writer(f)\n",
    "    writer.writerow(data)"
   ]
  },
  {
   "cell_type": "code",
   "execution_count": null,
   "id": "0c945a5f",
   "metadata": {},
   "outputs": [],
   "source": [
    "def check_price():"
   ]
  }
 ],
 "metadata": {
  "kernelspec": {
   "display_name": "Python 3",
   "language": "python",
   "name": "python3"
  },
  "language_info": {
   "codemirror_mode": {
    "name": "ipython",
    "version": 3
   },
   "file_extension": ".py",
   "mimetype": "text/x-python",
   "name": "python",
   "nbconvert_exporter": "python",
   "pygments_lexer": "ipython3",
   "version": "3.8.8"
  }
 },
 "nbformat": 4,
 "nbformat_minor": 5
}
