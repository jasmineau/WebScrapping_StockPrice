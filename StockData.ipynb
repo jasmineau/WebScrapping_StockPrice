{
 "cells": [
  {
   "cell_type": "markdown",
   "id": "a439f3a5",
   "metadata": {},
   "source": [
    "# Stock Web Scraper Project"
   ]
  },
  {
   "cell_type": "markdown",
   "id": "03641b27",
   "metadata": {},
   "source": [
    "Scrape data from yahoo finance and aastocks to: \n",
    "- analyze and find corrlations with the changing price among companies\n",
    "- collect real time stock prices and place data into csv file\n",
    "\n",
    "**Tool used:** \n",
    "- Web scrapping *(DataReader, BeautifulSoup, Requests)*\n",
    "- Time *(Datetime, time)*\n",
    "- Visualization *(Matplolib, Seaborn)*"
   ]
  },
  {
   "cell_type": "markdown",
   "id": "7b914b5d",
   "metadata": {},
   "source": [
    "### Import Libraries"
   ]
  },
  {
   "cell_type": "code",
   "execution_count": 1,
   "id": "fcf8ff6a",
   "metadata": {},
   "outputs": [],
   "source": [
    "# !pip install pandas_datareader\n",
    "# collate data from online sources into dataframe\n",
    "from pandas_datareader import data"
   ]
  },
  {
   "cell_type": "code",
   "execution_count": 2,
   "id": "629d6687",
   "metadata": {},
   "outputs": [],
   "source": [
    "# !pip install yfinance\n",
    "# https://pypi.org/project/yfinance/\n",
    "import yfinance as yf"
   ]
  },
  {
   "cell_type": "code",
   "execution_count": 3,
   "id": "b3073ee0",
   "metadata": {},
   "outputs": [],
   "source": [
    "from bs4 import BeautifulSoup\n",
    "import requests\n",
    "\n",
    "import time\n",
    "from datetime import datetime\n",
    "\n",
    "# sending emails\n",
    "import smtplib\n",
    "\n",
    "def check_price():\n",
    "    url = 'http://www.aastocks.com/tc/stocks/quote/quick-quote.aspx?symbol=09988'\n",
    "    headers = {\n",
    "        \"User-Agent\":\"Mozilla/5.0 (Macintosh; Intel Mac OS X 10_15_7) AppleWebKit/537.36 (KHTML, like Gecko) Chrome/96.0.4664.110 Safari/537.36\",\n",
    "        \"Referer\":\"http://www.aastocks.com/tc/\"}\n",
    "    session = requests.session()\n",
    "    req = session.get(url, headers = headers)\n",
    "    soup = BeautifulSoup(req.text)\n",
    "    StockName = soup.find('a',{'class':'a17 cls'}).text.strip()\n",
    "    Price = soup.select(\".content span\")[6].text[1:]\n",
    "    \n",
    "    from datetime import datetime\n",
    "    now = datetime.now()\n",
    "    today = ('{}-{}-{}').format(now.year,now.month,now.day)\n",
    "    \n",
    "    import csv\n",
    "    header = ['Date','Stock Name','Closing Price']\n",
    "    data = [today,StockName,Price]\n",
    "    \n",
    "    with open('StockPriceWebScrapper.csv', 'a+',newline='',encoding='UTF8') as f:\n",
    "        writer = csv.writer(f)\n",
    "        writer.writerow(data)"
   ]
  },
  {
   "cell_type": "code",
   "execution_count": 4,
   "id": "0a585764",
   "metadata": {},
   "outputs": [],
   "source": [
    "import matplotlib.pyplot as plt\n",
    "import seaborn as sns\n",
    "%matplotlib inline"
   ]
  },
  {
   "cell_type": "code",
   "execution_count": 5,
   "id": "a504c87e",
   "metadata": {},
   "outputs": [],
   "source": [
    "import csv"
   ]
  },
  {
   "cell_type": "markdown",
   "id": "8b035210",
   "metadata": {},
   "source": [
    "***"
   ]
  },
  {
   "cell_type": "markdown",
   "id": "472ebdaf",
   "metadata": {},
   "source": [
    "### DataReader Library\n",
    "collate 2021-2022 Facebook Stock Data from yahoo into dataframe"
   ]
  },
  {
   "cell_type": "code",
   "execution_count": 6,
   "id": "c4be5e83",
   "metadata": {},
   "outputs": [],
   "source": [
    "df_fb = data.DataReader('FB', 'yahoo', '2022')"
   ]
  },
  {
   "cell_type": "code",
   "execution_count": 7,
   "id": "a4690348",
   "metadata": {},
   "outputs": [
    {
     "data": {
      "text/html": [
       "<div>\n",
       "<style scoped>\n",
       "    .dataframe tbody tr th:only-of-type {\n",
       "        vertical-align: middle;\n",
       "    }\n",
       "\n",
       "    .dataframe tbody tr th {\n",
       "        vertical-align: top;\n",
       "    }\n",
       "\n",
       "    .dataframe thead th {\n",
       "        text-align: right;\n",
       "    }\n",
       "</style>\n",
       "<table border=\"1\" class=\"dataframe\">\n",
       "  <thead>\n",
       "    <tr style=\"text-align: right;\">\n",
       "      <th></th>\n",
       "      <th>High</th>\n",
       "      <th>Low</th>\n",
       "      <th>Open</th>\n",
       "      <th>Close</th>\n",
       "      <th>Volume</th>\n",
       "      <th>Adj Close</th>\n",
       "    </tr>\n",
       "    <tr>\n",
       "      <th>Date</th>\n",
       "      <th></th>\n",
       "      <th></th>\n",
       "      <th></th>\n",
       "      <th></th>\n",
       "      <th></th>\n",
       "      <th></th>\n",
       "    </tr>\n",
       "  </thead>\n",
       "  <tbody>\n",
       "    <tr>\n",
       "      <th>2021-12-31</th>\n",
       "      <td>343.440002</td>\n",
       "      <td>336.269989</td>\n",
       "      <td>343.019989</td>\n",
       "      <td>336.350006</td>\n",
       "      <td>12870500</td>\n",
       "      <td>336.350006</td>\n",
       "    </tr>\n",
       "    <tr>\n",
       "      <th>2022-01-03</th>\n",
       "      <td>341.079987</td>\n",
       "      <td>337.190002</td>\n",
       "      <td>338.299988</td>\n",
       "      <td>338.540009</td>\n",
       "      <td>14537900</td>\n",
       "      <td>338.540009</td>\n",
       "    </tr>\n",
       "    <tr>\n",
       "      <th>2022-01-04</th>\n",
       "      <td>343.089996</td>\n",
       "      <td>331.869995</td>\n",
       "      <td>339.950012</td>\n",
       "      <td>336.529999</td>\n",
       "      <td>15998000</td>\n",
       "      <td>336.529999</td>\n",
       "    </tr>\n",
       "    <tr>\n",
       "      <th>2022-01-05</th>\n",
       "      <td>335.760010</td>\n",
       "      <td>323.839996</td>\n",
       "      <td>333.019989</td>\n",
       "      <td>324.170013</td>\n",
       "      <td>20564500</td>\n",
       "      <td>324.170013</td>\n",
       "    </tr>\n",
       "    <tr>\n",
       "      <th>2022-01-06</th>\n",
       "      <td>339.170013</td>\n",
       "      <td>322.720001</td>\n",
       "      <td>322.820007</td>\n",
       "      <td>332.459991</td>\n",
       "      <td>27962800</td>\n",
       "      <td>332.459991</td>\n",
       "    </tr>\n",
       "  </tbody>\n",
       "</table>\n",
       "</div>"
      ],
      "text/plain": [
       "                  High         Low        Open       Close    Volume  \\\n",
       "Date                                                                   \n",
       "2021-12-31  343.440002  336.269989  343.019989  336.350006  12870500   \n",
       "2022-01-03  341.079987  337.190002  338.299988  338.540009  14537900   \n",
       "2022-01-04  343.089996  331.869995  339.950012  336.529999  15998000   \n",
       "2022-01-05  335.760010  323.839996  333.019989  324.170013  20564500   \n",
       "2022-01-06  339.170013  322.720001  322.820007  332.459991  27962800   \n",
       "\n",
       "             Adj Close  \n",
       "Date                    \n",
       "2021-12-31  336.350006  \n",
       "2022-01-03  338.540009  \n",
       "2022-01-04  336.529999  \n",
       "2022-01-05  324.170013  \n",
       "2022-01-06  332.459991  "
      ]
     },
     "execution_count": 7,
     "metadata": {},
     "output_type": "execute_result"
    }
   ],
   "source": [
    "df_fb.head()"
   ]
  },
  {
   "cell_type": "code",
   "execution_count": 8,
   "id": "2d367526",
   "metadata": {
    "scrolled": true
   },
   "outputs": [
    {
     "data": {
      "text/html": [
       "<div>\n",
       "<style scoped>\n",
       "    .dataframe tbody tr th:only-of-type {\n",
       "        vertical-align: middle;\n",
       "    }\n",
       "\n",
       "    .dataframe tbody tr th {\n",
       "        vertical-align: top;\n",
       "    }\n",
       "\n",
       "    .dataframe thead th {\n",
       "        text-align: right;\n",
       "    }\n",
       "</style>\n",
       "<table border=\"1\" class=\"dataframe\">\n",
       "  <thead>\n",
       "    <tr style=\"text-align: right;\">\n",
       "      <th></th>\n",
       "      <th>High</th>\n",
       "      <th>Low</th>\n",
       "      <th>Open</th>\n",
       "      <th>Close</th>\n",
       "      <th>Volume</th>\n",
       "      <th>Adj Close</th>\n",
       "    </tr>\n",
       "    <tr>\n",
       "      <th>Date</th>\n",
       "      <th></th>\n",
       "      <th></th>\n",
       "      <th></th>\n",
       "      <th></th>\n",
       "      <th></th>\n",
       "      <th></th>\n",
       "    </tr>\n",
       "  </thead>\n",
       "  <tbody>\n",
       "    <tr>\n",
       "      <th>2022-01-27</th>\n",
       "      <td>301.709991</td>\n",
       "      <td>294.260010</td>\n",
       "      <td>297.750000</td>\n",
       "      <td>294.640015</td>\n",
       "      <td>21629900</td>\n",
       "      <td>294.640015</td>\n",
       "    </tr>\n",
       "    <tr>\n",
       "      <th>2022-01-28</th>\n",
       "      <td>301.899994</td>\n",
       "      <td>293.029999</td>\n",
       "      <td>295.619995</td>\n",
       "      <td>301.709991</td>\n",
       "      <td>21871600</td>\n",
       "      <td>301.709991</td>\n",
       "    </tr>\n",
       "    <tr>\n",
       "      <th>2022-01-31</th>\n",
       "      <td>313.790009</td>\n",
       "      <td>299.320007</td>\n",
       "      <td>300.679993</td>\n",
       "      <td>313.260010</td>\n",
       "      <td>21579500</td>\n",
       "      <td>313.260010</td>\n",
       "    </tr>\n",
       "    <tr>\n",
       "      <th>2022-02-01</th>\n",
       "      <td>319.660004</td>\n",
       "      <td>312.119995</td>\n",
       "      <td>314.559998</td>\n",
       "      <td>319.000000</td>\n",
       "      <td>17895200</td>\n",
       "      <td>319.000000</td>\n",
       "    </tr>\n",
       "    <tr>\n",
       "      <th>2022-02-02</th>\n",
       "      <td>328.000000</td>\n",
       "      <td>316.869995</td>\n",
       "      <td>327.820007</td>\n",
       "      <td>323.000000</td>\n",
       "      <td>56147600</td>\n",
       "      <td>323.000000</td>\n",
       "    </tr>\n",
       "  </tbody>\n",
       "</table>\n",
       "</div>"
      ],
      "text/plain": [
       "                  High         Low        Open       Close    Volume  \\\n",
       "Date                                                                   \n",
       "2022-01-27  301.709991  294.260010  297.750000  294.640015  21629900   \n",
       "2022-01-28  301.899994  293.029999  295.619995  301.709991  21871600   \n",
       "2022-01-31  313.790009  299.320007  300.679993  313.260010  21579500   \n",
       "2022-02-01  319.660004  312.119995  314.559998  319.000000  17895200   \n",
       "2022-02-02  328.000000  316.869995  327.820007  323.000000  56147600   \n",
       "\n",
       "             Adj Close  \n",
       "Date                    \n",
       "2022-01-27  294.640015  \n",
       "2022-01-28  301.709991  \n",
       "2022-01-31  313.260010  \n",
       "2022-02-01  319.000000  \n",
       "2022-02-02  323.000000  "
      ]
     },
     "execution_count": 8,
     "metadata": {},
     "output_type": "execute_result"
    }
   ],
   "source": [
    "df_fb.tail()"
   ]
  },
  {
   "cell_type": "markdown",
   "id": "959b9aeb",
   "metadata": {},
   "source": [
    "***"
   ]
  },
  {
   "cell_type": "markdown",
   "id": "a4947ae9",
   "metadata": {},
   "source": [
    "# FAANG\n",
    "Download stock prices from yahoo finance library\n",
    "1. analyze all the prices from the big 5 tech companies\n",
    "2. find corrlations with the changing price among the companies"
   ]
  },
  {
   "cell_type": "markdown",
   "id": "7b0e3b9e",
   "metadata": {},
   "source": [
    "### Give Current time using datetime library"
   ]
  },
  {
   "cell_type": "code",
   "execution_count": 9,
   "id": "191be81c",
   "metadata": {},
   "outputs": [],
   "source": [
    "now = datetime.now()"
   ]
  },
  {
   "cell_type": "code",
   "execution_count": 10,
   "id": "d3d5aeee",
   "metadata": {},
   "outputs": [
    {
     "data": {
      "text/plain": [
       "datetime.datetime(2022, 2, 3, 21, 45, 42, 100869)"
      ]
     },
     "execution_count": 10,
     "metadata": {},
     "output_type": "execute_result"
    }
   ],
   "source": [
    "now"
   ]
  },
  {
   "cell_type": "markdown",
   "id": "62b4c50e",
   "metadata": {},
   "source": [
    "### Set start time to be 1 year ago"
   ]
  },
  {
   "cell_type": "code",
   "execution_count": 11,
   "id": "574eeb9e",
   "metadata": {},
   "outputs": [],
   "source": [
    "start = datetime(now.year-1, now.month, now.day)"
   ]
  },
  {
   "cell_type": "code",
   "execution_count": 12,
   "id": "cfe8fd8f",
   "metadata": {},
   "outputs": [
    {
     "data": {
      "text/plain": [
       "datetime.datetime(2021, 2, 3, 0, 0)"
      ]
     },
     "execution_count": 12,
     "metadata": {},
     "output_type": "execute_result"
    }
   ],
   "source": [
    "start"
   ]
  },
  {
   "cell_type": "markdown",
   "id": "4eb145bb",
   "metadata": {},
   "source": [
    "### Show FAANG Data from yahoo fiance"
   ]
  },
  {
   "cell_type": "code",
   "execution_count": 13,
   "id": "d7437aa6",
   "metadata": {},
   "outputs": [],
   "source": [
    "# Facebook, Amazon, Apple, Netflix, Google\n",
    "tickers = [\"FB\", \"AMZN\", \"AAPL\", \"NFLX\", \"GOOG\"]"
   ]
  },
  {
   "cell_type": "code",
   "execution_count": 14,
   "id": "a7b5c1df",
   "metadata": {},
   "outputs": [
    {
     "name": "stdout",
     "output_type": "stream",
     "text": [
      "[*********************100%***********************]  5 of 5 completed\n"
     ]
    }
   ],
   "source": [
    "FAANG = yf.download(tickers,start, now)"
   ]
  },
  {
   "cell_type": "code",
   "execution_count": 15,
   "id": "536dd5cf",
   "metadata": {
    "scrolled": true
   },
   "outputs": [
    {
     "data": {
      "text/html": [
       "<div>\n",
       "<style scoped>\n",
       "    .dataframe tbody tr th:only-of-type {\n",
       "        vertical-align: middle;\n",
       "    }\n",
       "\n",
       "    .dataframe tbody tr th {\n",
       "        vertical-align: top;\n",
       "    }\n",
       "\n",
       "    .dataframe thead tr th {\n",
       "        text-align: left;\n",
       "    }\n",
       "\n",
       "    .dataframe thead tr:last-of-type th {\n",
       "        text-align: right;\n",
       "    }\n",
       "</style>\n",
       "<table border=\"1\" class=\"dataframe\">\n",
       "  <thead>\n",
       "    <tr>\n",
       "      <th></th>\n",
       "      <th colspan=\"5\" halign=\"left\">Adj Close</th>\n",
       "      <th colspan=\"5\" halign=\"left\">Close</th>\n",
       "      <th>...</th>\n",
       "      <th colspan=\"5\" halign=\"left\">Open</th>\n",
       "      <th colspan=\"5\" halign=\"left\">Volume</th>\n",
       "    </tr>\n",
       "    <tr>\n",
       "      <th></th>\n",
       "      <th>AAPL</th>\n",
       "      <th>AMZN</th>\n",
       "      <th>FB</th>\n",
       "      <th>GOOG</th>\n",
       "      <th>NFLX</th>\n",
       "      <th>AAPL</th>\n",
       "      <th>AMZN</th>\n",
       "      <th>FB</th>\n",
       "      <th>GOOG</th>\n",
       "      <th>NFLX</th>\n",
       "      <th>...</th>\n",
       "      <th>AAPL</th>\n",
       "      <th>AMZN</th>\n",
       "      <th>FB</th>\n",
       "      <th>GOOG</th>\n",
       "      <th>NFLX</th>\n",
       "      <th>AAPL</th>\n",
       "      <th>AMZN</th>\n",
       "      <th>FB</th>\n",
       "      <th>GOOG</th>\n",
       "      <th>NFLX</th>\n",
       "    </tr>\n",
       "    <tr>\n",
       "      <th>Date</th>\n",
       "      <th></th>\n",
       "      <th></th>\n",
       "      <th></th>\n",
       "      <th></th>\n",
       "      <th></th>\n",
       "      <th></th>\n",
       "      <th></th>\n",
       "      <th></th>\n",
       "      <th></th>\n",
       "      <th></th>\n",
       "      <th></th>\n",
       "      <th></th>\n",
       "      <th></th>\n",
       "      <th></th>\n",
       "      <th></th>\n",
       "      <th></th>\n",
       "      <th></th>\n",
       "      <th></th>\n",
       "      <th></th>\n",
       "      <th></th>\n",
       "      <th></th>\n",
       "    </tr>\n",
       "  </thead>\n",
       "  <tbody>\n",
       "    <tr>\n",
       "      <th>2021-02-02</th>\n",
       "      <td>134.162933</td>\n",
       "      <td>3380.000000</td>\n",
       "      <td>267.079987</td>\n",
       "      <td>1927.510010</td>\n",
       "      <td>548.159973</td>\n",
       "      <td>134.990005</td>\n",
       "      <td>3380.000000</td>\n",
       "      <td>267.079987</td>\n",
       "      <td>1927.510010</td>\n",
       "      <td>548.159973</td>\n",
       "      <td>...</td>\n",
       "      <td>135.729996</td>\n",
       "      <td>3380.00000</td>\n",
       "      <td>264.000000</td>\n",
       "      <td>1922.560059</td>\n",
       "      <td>542.010010</td>\n",
       "      <td>83305400</td>\n",
       "      <td>7098600</td>\n",
       "      <td>17320800</td>\n",
       "      <td>2273700</td>\n",
       "      <td>3767600</td>\n",
       "    </tr>\n",
       "    <tr>\n",
       "      <th>2021-02-03</th>\n",
       "      <td>133.119324</td>\n",
       "      <td>3312.530029</td>\n",
       "      <td>266.649994</td>\n",
       "      <td>2070.070068</td>\n",
       "      <td>539.450012</td>\n",
       "      <td>133.940002</td>\n",
       "      <td>3312.530029</td>\n",
       "      <td>266.649994</td>\n",
       "      <td>2070.070068</td>\n",
       "      <td>539.450012</td>\n",
       "      <td>...</td>\n",
       "      <td>135.759995</td>\n",
       "      <td>3425.01001</td>\n",
       "      <td>265.619995</td>\n",
       "      <td>2073.000000</td>\n",
       "      <td>550.169983</td>\n",
       "      <td>89880900</td>\n",
       "      <td>7088800</td>\n",
       "      <td>14223400</td>\n",
       "      <td>4118200</td>\n",
       "      <td>3172300</td>\n",
       "    </tr>\n",
       "    <tr>\n",
       "      <th>2021-02-04</th>\n",
       "      <td>136.548218</td>\n",
       "      <td>3331.000000</td>\n",
       "      <td>266.489990</td>\n",
       "      <td>2062.370117</td>\n",
       "      <td>552.159973</td>\n",
       "      <td>137.389999</td>\n",
       "      <td>3331.000000</td>\n",
       "      <td>266.489990</td>\n",
       "      <td>2062.370117</td>\n",
       "      <td>552.159973</td>\n",
       "      <td>...</td>\n",
       "      <td>136.300003</td>\n",
       "      <td>3330.00000</td>\n",
       "      <td>267.010010</td>\n",
       "      <td>2068.889893</td>\n",
       "      <td>539.809998</td>\n",
       "      <td>84183100</td>\n",
       "      <td>3670700</td>\n",
       "      <td>16060000</td>\n",
       "      <td>1852300</td>\n",
       "      <td>5164500</td>\n",
       "    </tr>\n",
       "    <tr>\n",
       "      <th>2021-02-05</th>\n",
       "      <td>136.125168</td>\n",
       "      <td>3352.149902</td>\n",
       "      <td>268.100006</td>\n",
       "      <td>2098.000000</td>\n",
       "      <td>550.789978</td>\n",
       "      <td>136.759995</td>\n",
       "      <td>3352.149902</td>\n",
       "      <td>268.100006</td>\n",
       "      <td>2098.000000</td>\n",
       "      <td>550.789978</td>\n",
       "      <td>...</td>\n",
       "      <td>137.350006</td>\n",
       "      <td>3319.00000</td>\n",
       "      <td>266.799988</td>\n",
       "      <td>2070.000000</td>\n",
       "      <td>552.260010</td>\n",
       "      <td>75693800</td>\n",
       "      <td>3620800</td>\n",
       "      <td>12454400</td>\n",
       "      <td>1535100</td>\n",
       "      <td>2376200</td>\n",
       "    </tr>\n",
       "    <tr>\n",
       "      <th>2021-02-08</th>\n",
       "      <td>136.274490</td>\n",
       "      <td>3322.939941</td>\n",
       "      <td>266.579987</td>\n",
       "      <td>2092.909912</td>\n",
       "      <td>547.919983</td>\n",
       "      <td>136.910004</td>\n",
       "      <td>3322.939941</td>\n",
       "      <td>266.579987</td>\n",
       "      <td>2092.909912</td>\n",
       "      <td>547.919983</td>\n",
       "      <td>...</td>\n",
       "      <td>136.029999</td>\n",
       "      <td>3358.50000</td>\n",
       "      <td>268.750000</td>\n",
       "      <td>2105.909912</td>\n",
       "      <td>555.000000</td>\n",
       "      <td>71297200</td>\n",
       "      <td>3257400</td>\n",
       "      <td>13755200</td>\n",
       "      <td>1241900</td>\n",
       "      <td>2791700</td>\n",
       "    </tr>\n",
       "  </tbody>\n",
       "</table>\n",
       "<p>5 rows × 30 columns</p>\n",
       "</div>"
      ],
      "text/plain": [
       "             Adj Close                                                    \\\n",
       "                  AAPL         AMZN          FB         GOOG        NFLX   \n",
       "Date                                                                       \n",
       "2021-02-02  134.162933  3380.000000  267.079987  1927.510010  548.159973   \n",
       "2021-02-03  133.119324  3312.530029  266.649994  2070.070068  539.450012   \n",
       "2021-02-04  136.548218  3331.000000  266.489990  2062.370117  552.159973   \n",
       "2021-02-05  136.125168  3352.149902  268.100006  2098.000000  550.789978   \n",
       "2021-02-08  136.274490  3322.939941  266.579987  2092.909912  547.919983   \n",
       "\n",
       "                 Close                                                    ...  \\\n",
       "                  AAPL         AMZN          FB         GOOG        NFLX  ...   \n",
       "Date                                                                      ...   \n",
       "2021-02-02  134.990005  3380.000000  267.079987  1927.510010  548.159973  ...   \n",
       "2021-02-03  133.940002  3312.530029  266.649994  2070.070068  539.450012  ...   \n",
       "2021-02-04  137.389999  3331.000000  266.489990  2062.370117  552.159973  ...   \n",
       "2021-02-05  136.759995  3352.149902  268.100006  2098.000000  550.789978  ...   \n",
       "2021-02-08  136.910004  3322.939941  266.579987  2092.909912  547.919983  ...   \n",
       "\n",
       "                  Open                                                   \\\n",
       "                  AAPL        AMZN          FB         GOOG        NFLX   \n",
       "Date                                                                      \n",
       "2021-02-02  135.729996  3380.00000  264.000000  1922.560059  542.010010   \n",
       "2021-02-03  135.759995  3425.01001  265.619995  2073.000000  550.169983   \n",
       "2021-02-04  136.300003  3330.00000  267.010010  2068.889893  539.809998   \n",
       "2021-02-05  137.350006  3319.00000  266.799988  2070.000000  552.260010   \n",
       "2021-02-08  136.029999  3358.50000  268.750000  2105.909912  555.000000   \n",
       "\n",
       "              Volume                                       \n",
       "                AAPL     AMZN        FB     GOOG     NFLX  \n",
       "Date                                                       \n",
       "2021-02-02  83305400  7098600  17320800  2273700  3767600  \n",
       "2021-02-03  89880900  7088800  14223400  4118200  3172300  \n",
       "2021-02-04  84183100  3670700  16060000  1852300  5164500  \n",
       "2021-02-05  75693800  3620800  12454400  1535100  2376200  \n",
       "2021-02-08  71297200  3257400  13755200  1241900  2791700  \n",
       "\n",
       "[5 rows x 30 columns]"
      ]
     },
     "execution_count": 15,
     "metadata": {},
     "output_type": "execute_result"
    }
   ],
   "source": [
    "FAANG.head()"
   ]
  },
  {
   "cell_type": "markdown",
   "id": "59150e27",
   "metadata": {},
   "source": [
    "### Show the max close price and date of the year"
   ]
  },
  {
   "cell_type": "code",
   "execution_count": 16,
   "id": "a581c9ac",
   "metadata": {},
   "outputs": [
    {
     "data": {
      "text/plain": [
       "AAPL     182.009995\n",
       "AMZN    3731.409912\n",
       "FB       382.179993\n",
       "GOOG    3014.179932\n",
       "NFLX     691.690002\n",
       "dtype: float64"
      ]
     },
     "execution_count": 16,
     "metadata": {},
     "output_type": "execute_result"
    }
   ],
   "source": [
    "FAANG['Close'].max()"
   ]
  },
  {
   "cell_type": "code",
   "execution_count": 17,
   "id": "ee095e55",
   "metadata": {
    "scrolled": true
   },
   "outputs": [
    {
     "data": {
      "text/plain": [
       "AAPL   2022-01-03\n",
       "AMZN   2021-07-08\n",
       "FB     2021-09-07\n",
       "GOOG   2021-11-18\n",
       "NFLX   2021-11-17\n",
       "dtype: datetime64[ns]"
      ]
     },
     "execution_count": 17,
     "metadata": {},
     "output_type": "execute_result"
    }
   ],
   "source": [
    "FAANG['Close'].idxmax()"
   ]
  },
  {
   "cell_type": "markdown",
   "id": "30e51f09",
   "metadata": {},
   "source": [
    "### Use plot to visualize Close Price"
   ]
  },
  {
   "cell_type": "code",
   "execution_count": 18,
   "id": "6650fede",
   "metadata": {},
   "outputs": [
    {
     "data": {
      "text/html": [
       "<div>\n",
       "<style scoped>\n",
       "    .dataframe tbody tr th:only-of-type {\n",
       "        vertical-align: middle;\n",
       "    }\n",
       "\n",
       "    .dataframe tbody tr th {\n",
       "        vertical-align: top;\n",
       "    }\n",
       "\n",
       "    .dataframe thead th {\n",
       "        text-align: right;\n",
       "    }\n",
       "</style>\n",
       "<table border=\"1\" class=\"dataframe\">\n",
       "  <thead>\n",
       "    <tr style=\"text-align: right;\">\n",
       "      <th></th>\n",
       "      <th>AAPL</th>\n",
       "      <th>AMZN</th>\n",
       "      <th>FB</th>\n",
       "      <th>GOOG</th>\n",
       "      <th>NFLX</th>\n",
       "    </tr>\n",
       "    <tr>\n",
       "      <th>Date</th>\n",
       "      <th></th>\n",
       "      <th></th>\n",
       "      <th></th>\n",
       "      <th></th>\n",
       "      <th></th>\n",
       "    </tr>\n",
       "  </thead>\n",
       "  <tbody>\n",
       "    <tr>\n",
       "      <th>2021-02-02</th>\n",
       "      <td>134.990005</td>\n",
       "      <td>3380.000000</td>\n",
       "      <td>267.079987</td>\n",
       "      <td>1927.510010</td>\n",
       "      <td>548.159973</td>\n",
       "    </tr>\n",
       "    <tr>\n",
       "      <th>2021-02-03</th>\n",
       "      <td>133.940002</td>\n",
       "      <td>3312.530029</td>\n",
       "      <td>266.649994</td>\n",
       "      <td>2070.070068</td>\n",
       "      <td>539.450012</td>\n",
       "    </tr>\n",
       "    <tr>\n",
       "      <th>2021-02-04</th>\n",
       "      <td>137.389999</td>\n",
       "      <td>3331.000000</td>\n",
       "      <td>266.489990</td>\n",
       "      <td>2062.370117</td>\n",
       "      <td>552.159973</td>\n",
       "    </tr>\n",
       "    <tr>\n",
       "      <th>2021-02-05</th>\n",
       "      <td>136.759995</td>\n",
       "      <td>3352.149902</td>\n",
       "      <td>268.100006</td>\n",
       "      <td>2098.000000</td>\n",
       "      <td>550.789978</td>\n",
       "    </tr>\n",
       "    <tr>\n",
       "      <th>2021-02-08</th>\n",
       "      <td>136.910004</td>\n",
       "      <td>3322.939941</td>\n",
       "      <td>266.579987</td>\n",
       "      <td>2092.909912</td>\n",
       "      <td>547.919983</td>\n",
       "    </tr>\n",
       "  </tbody>\n",
       "</table>\n",
       "</div>"
      ],
      "text/plain": [
       "                  AAPL         AMZN          FB         GOOG        NFLX\n",
       "Date                                                                    \n",
       "2021-02-02  134.990005  3380.000000  267.079987  1927.510010  548.159973\n",
       "2021-02-03  133.940002  3312.530029  266.649994  2070.070068  539.450012\n",
       "2021-02-04  137.389999  3331.000000  266.489990  2062.370117  552.159973\n",
       "2021-02-05  136.759995  3352.149902  268.100006  2098.000000  550.789978\n",
       "2021-02-08  136.910004  3322.939941  266.579987  2092.909912  547.919983"
      ]
     },
     "execution_count": 18,
     "metadata": {},
     "output_type": "execute_result"
    }
   ],
   "source": [
    "FAANG['Close'].head()"
   ]
  },
  {
   "cell_type": "code",
   "execution_count": 19,
   "id": "d5f024f3",
   "metadata": {
    "scrolled": true
   },
   "outputs": [
    {
     "data": {
      "text/plain": [
       "<matplotlib.legend.Legend at 0x7ff038788610>"
      ]
     },
     "execution_count": 19,
     "metadata": {},
     "output_type": "execute_result"
    },
    {
     "data": {
      "image/png": "[encoded data removed]",
      "text/plain": [
       "<Figure size 1152x360 with 1 Axes>"
      ]
     },
     "metadata": {
      "needs_background": "light"
     },
     "output_type": "display_data"
    }
   ],
   "source": [
    "close = FAANG['Close']\n",
    "plt.figure(figsize=(16,5)) \n",
    "close[\"FB\"].plot()\n",
    "close['AMZN'].plot()\n",
    "close['AAPL'].plot()\n",
    "close['NFLX'].plot()\n",
    "close['GOOG'].plot()\n",
    "\n",
    "plt.xlabel(\"Date\", fontsize=12)\n",
    "plt.ylabel(\"USD\", fontsize=12)\n",
    "plt.title(\"FAANG Stock Price\", fontsize=20)\n",
    "plt.legend(bbox_to_anchor=(1, 1),loc='upper left')"
   ]
  },
  {
   "cell_type": "markdown",
   "id": "6d39d994",
   "metadata": {},
   "source": [
    "### Use heatmap to visualize the correlation among the companies"
   ]
  },
  {
   "cell_type": "code",
   "execution_count": 20,
   "id": "e00a38ab",
   "metadata": {},
   "outputs": [
    {
     "data": {
      "text/html": [
       "<div>\n",
       "<style scoped>\n",
       "    .dataframe tbody tr th:only-of-type {\n",
       "        vertical-align: middle;\n",
       "    }\n",
       "\n",
       "    .dataframe tbody tr th {\n",
       "        vertical-align: top;\n",
       "    }\n",
       "\n",
       "    .dataframe thead th {\n",
       "        text-align: right;\n",
       "    }\n",
       "</style>\n",
       "<table border=\"1\" class=\"dataframe\">\n",
       "  <thead>\n",
       "    <tr style=\"text-align: right;\">\n",
       "      <th></th>\n",
       "      <th>AAPL</th>\n",
       "      <th>AMZN</th>\n",
       "      <th>FB</th>\n",
       "      <th>GOOG</th>\n",
       "      <th>NFLX</th>\n",
       "    </tr>\n",
       "    <tr>\n",
       "      <th>Date</th>\n",
       "      <th></th>\n",
       "      <th></th>\n",
       "      <th></th>\n",
       "      <th></th>\n",
       "      <th></th>\n",
       "    </tr>\n",
       "  </thead>\n",
       "  <tbody>\n",
       "    <tr>\n",
       "      <th>2021-02-02</th>\n",
       "      <td>NaN</td>\n",
       "      <td>NaN</td>\n",
       "      <td>NaN</td>\n",
       "      <td>NaN</td>\n",
       "      <td>NaN</td>\n",
       "    </tr>\n",
       "    <tr>\n",
       "      <th>2021-02-03</th>\n",
       "      <td>-0.007778</td>\n",
       "      <td>-0.019962</td>\n",
       "      <td>-0.001610</td>\n",
       "      <td>0.073961</td>\n",
       "      <td>-0.015889</td>\n",
       "    </tr>\n",
       "    <tr>\n",
       "      <th>2021-02-04</th>\n",
       "      <td>0.025758</td>\n",
       "      <td>0.005576</td>\n",
       "      <td>-0.000600</td>\n",
       "      <td>-0.003720</td>\n",
       "      <td>0.023561</td>\n",
       "    </tr>\n",
       "    <tr>\n",
       "      <th>2021-02-05</th>\n",
       "      <td>-0.004586</td>\n",
       "      <td>0.006349</td>\n",
       "      <td>0.006042</td>\n",
       "      <td>0.017276</td>\n",
       "      <td>-0.002481</td>\n",
       "    </tr>\n",
       "    <tr>\n",
       "      <th>2021-02-08</th>\n",
       "      <td>0.001097</td>\n",
       "      <td>-0.008714</td>\n",
       "      <td>-0.005670</td>\n",
       "      <td>-0.002426</td>\n",
       "      <td>-0.005211</td>\n",
       "    </tr>\n",
       "  </tbody>\n",
       "</table>\n",
       "</div>"
      ],
      "text/plain": [
       "                AAPL      AMZN        FB      GOOG      NFLX\n",
       "Date                                                        \n",
       "2021-02-02       NaN       NaN       NaN       NaN       NaN\n",
       "2021-02-03 -0.007778 -0.019962 -0.001610  0.073961 -0.015889\n",
       "2021-02-04  0.025758  0.005576 -0.000600 -0.003720  0.023561\n",
       "2021-02-05 -0.004586  0.006349  0.006042  0.017276 -0.002481\n",
       "2021-02-08  0.001097 -0.008714 -0.005670 -0.002426 -0.005211"
      ]
     },
     "execution_count": 20,
     "metadata": {},
     "output_type": "execute_result"
    }
   ],
   "source": [
    "# compute percentage change between today and yeserday close price\n",
    "FAANG['Close'].pct_change().head()"
   ]
  },
  {
   "cell_type": "code",
   "execution_count": 21,
   "id": "bf275e2f",
   "metadata": {
    "scrolled": true
   },
   "outputs": [],
   "source": [
    "df1 = FAANG['Close'].pct_change().corr()"
   ]
  },
  {
   "cell_type": "code",
   "execution_count": 22,
   "id": "e3d9b3c4",
   "metadata": {},
   "outputs": [
    {
     "data": {
      "text/html": [
       "<div>\n",
       "<style scoped>\n",
       "    .dataframe tbody tr th:only-of-type {\n",
       "        vertical-align: middle;\n",
       "    }\n",
       "\n",
       "    .dataframe tbody tr th {\n",
       "        vertical-align: top;\n",
       "    }\n",
       "\n",
       "    .dataframe thead th {\n",
       "        text-align: right;\n",
       "    }\n",
       "</style>\n",
       "<table border=\"1\" class=\"dataframe\">\n",
       "  <thead>\n",
       "    <tr style=\"text-align: right;\">\n",
       "      <th></th>\n",
       "      <th>AAPL</th>\n",
       "      <th>AMZN</th>\n",
       "      <th>FB</th>\n",
       "      <th>GOOG</th>\n",
       "      <th>NFLX</th>\n",
       "    </tr>\n",
       "  </thead>\n",
       "  <tbody>\n",
       "    <tr>\n",
       "      <th>AAPL</th>\n",
       "      <td>1.000000</td>\n",
       "      <td>0.606673</td>\n",
       "      <td>0.483866</td>\n",
       "      <td>0.558688</td>\n",
       "      <td>0.342537</td>\n",
       "    </tr>\n",
       "    <tr>\n",
       "      <th>AMZN</th>\n",
       "      <td>0.606673</td>\n",
       "      <td>1.000000</td>\n",
       "      <td>0.541899</td>\n",
       "      <td>0.548934</td>\n",
       "      <td>0.466524</td>\n",
       "    </tr>\n",
       "    <tr>\n",
       "      <th>FB</th>\n",
       "      <td>0.483866</td>\n",
       "      <td>0.541899</td>\n",
       "      <td>1.000000</td>\n",
       "      <td>0.562645</td>\n",
       "      <td>0.426764</td>\n",
       "    </tr>\n",
       "    <tr>\n",
       "      <th>GOOG</th>\n",
       "      <td>0.558688</td>\n",
       "      <td>0.548934</td>\n",
       "      <td>0.562645</td>\n",
       "      <td>1.000000</td>\n",
       "      <td>0.302645</td>\n",
       "    </tr>\n",
       "    <tr>\n",
       "      <th>NFLX</th>\n",
       "      <td>0.342537</td>\n",
       "      <td>0.466524</td>\n",
       "      <td>0.426764</td>\n",
       "      <td>0.302645</td>\n",
       "      <td>1.000000</td>\n",
       "    </tr>\n",
       "  </tbody>\n",
       "</table>\n",
       "</div>"
      ],
      "text/plain": [
       "          AAPL      AMZN        FB      GOOG      NFLX\n",
       "AAPL  1.000000  0.606673  0.483866  0.558688  0.342537\n",
       "AMZN  0.606673  1.000000  0.541899  0.548934  0.466524\n",
       "FB    0.483866  0.541899  1.000000  0.562645  0.426764\n",
       "GOOG  0.558688  0.548934  0.562645  1.000000  0.302645\n",
       "NFLX  0.342537  0.466524  0.426764  0.302645  1.000000"
      ]
     },
     "execution_count": 22,
     "metadata": {},
     "output_type": "execute_result"
    }
   ],
   "source": [
    "df1 "
   ]
  },
  {
   "cell_type": "code",
   "execution_count": 23,
   "id": "a436eb30",
   "metadata": {},
   "outputs": [
    {
     "data": {
      "text/plain": [
       "Text(51.0, 0.5, 'FAANG')"
      ]
     },
     "execution_count": 23,
     "metadata": {},
     "output_type": "execute_result"
    },
    {
     "data": {
      "image/png": "[encoded data removed]",
      "text/plain": [
       "<Figure size 576x288 with 2 Axes>"
      ]
     },
     "metadata": {
      "needs_background": "light"
     },
     "output_type": "display_data"
    }
   ],
   "source": [
    "plt.figure(figsize=(8,4))\n",
    "sns.heatmap(df1,annot=True)\n",
    "\n",
    "plt.title('Correlation Matrix for FAANG')\n",
    "plt.xlabel('FAANG')\n",
    "plt.ylabel('FAANG')"
   ]
  },
  {
   "cell_type": "markdown",
   "id": "d0703c5f",
   "metadata": {},
   "source": [
    "### Apple and Amazon have a relatively higher corrlation, with a correlation of 0.6"
   ]
  },
  {
   "cell_type": "markdown",
   "id": "c6b7e916",
   "metadata": {},
   "source": [
    "***"
   ]
  },
  {
   "cell_type": "markdown",
   "id": "9ad9547d",
   "metadata": {},
   "source": [
    "# AA stock"
   ]
  },
  {
   "cell_type": "markdown",
   "id": "c659bcfc",
   "metadata": {},
   "source": [
    "Use Python package requests and BeautifulSoup to scrape stock prices from aastocks.com\n",
    "1. Locate the API\n",
    "2. Copy request header from developer tools\n",
    "3. Put the request into BeautifulSoup\n",
    "4. Use css selector to find stock price"
   ]
  },
  {
   "cell_type": "code",
   "execution_count": 24,
   "id": "7154a8e4",
   "metadata": {},
   "outputs": [],
   "source": [
    "# Alibaba (9988)\n",
    "url = 'http://www.aastocks.com/tc/stocks/quote/quick-quote.aspx?symbol=09988'\n",
    "\n",
    "# request header\n",
    "# user-Agent: create illusion that we are from the browser environment\n",
    "# Referer: identify the address of the webpage which is linked to this requested resource\n",
    "\n",
    "headers = {\n",
    "        \"User-Agent\":\"Mozilla/5.0 (Macintosh; Intel Mac OS X 10_15_7) AppleWebKit/537.36 (KHTML, like Gecko) Chrome/96.0.4664.110 Safari/537.36\",\n",
    "        \"Referer\":\"http://www.aastocks.com/tc/\"}"
   ]
  },
  {
   "cell_type": "code",
   "execution_count": 25,
   "id": "44050442",
   "metadata": {},
   "outputs": [],
   "source": [
    "# Connect to Website and pull in Data\n",
    "session = requests.session()\n",
    "req = session.get(url, headers = headers)"
   ]
  },
  {
   "cell_type": "code",
   "execution_count": 26,
   "id": "980af227",
   "metadata": {},
   "outputs": [
    {
     "data": {
      "text/plain": [
       "200"
      ]
     },
     "execution_count": 26,
     "metadata": {},
     "output_type": "execute_result"
    }
   ],
   "source": [
    "# Check if request succesfully\n",
    "req.status_code"
   ]
  },
  {
   "cell_type": "markdown",
   "id": "d4c6912b",
   "metadata": {},
   "source": [
    "### Pass the results into BeautifulSoup"
   ]
  },
  {
   "cell_type": "code",
   "execution_count": 27,
   "id": "b8015d27",
   "metadata": {},
   "outputs": [],
   "source": [
    "soup = BeautifulSoup(req.text)"
   ]
  },
  {
   "cell_type": "code",
   "execution_count": 28,
   "id": "ef482f15",
   "metadata": {
    "scrolled": false
   },
   "outputs": [],
   "source": [
    "soup2 = BeautifulSoup(soup.prettify(),'html.parser')"
   ]
  },
  {
   "cell_type": "markdown",
   "id": "e39a9622",
   "metadata": {},
   "source": [
    "### Extract Stock Name"
   ]
  },
  {
   "cell_type": "code",
   "execution_count": 29,
   "id": "49bc72e8",
   "metadata": {},
   "outputs": [],
   "source": [
    "StockName = soup.find('a',{'class':'a17 cls'}).text.strip()"
   ]
  },
  {
   "cell_type": "code",
   "execution_count": 30,
   "id": "f7adaba4",
   "metadata": {},
   "outputs": [
    {
     "data": {
      "text/plain": [
       "'阿里巴巴－ＳＷ'"
      ]
     },
     "execution_count": 30,
     "metadata": {},
     "output_type": "execute_result"
    }
   ],
   "source": [
    "StockName"
   ]
  },
  {
   "cell_type": "markdown",
   "id": "99b4ba06",
   "metadata": {},
   "source": [
    "### Extract Stock Price"
   ]
  },
  {
   "cell_type": "code",
   "execution_count": 31,
   "id": "e4f56ef5",
   "metadata": {
    "scrolled": true
   },
   "outputs": [
    {
     "data": {
      "text/plain": [
       "[<span style=\"margin:0px 3px;\">(</span>,\n",
       " <span class=\"ss1 lbl_l pt\" id=\"btnIndex\">指數</span>,\n",
       " <span style=\"margin:0px 3px;\">|</span>,\n",
       " <span class=\"ss1 lbl_l pt\" id=\"btnCategory\">行業</span>,\n",
       " <span style=\"margin:0px 3px;\">)</span>,\n",
       " <span class=\"2.5\"><span class=\"1a3a2cee.d\"><div id=\"f7\"><span class=\"0c8e.c\"><span class=\"pos\"><span class=\"arrowUpDn\">▲</span>114.000</span></span></div></span></span>,\n",
       " <span class=\"1a3a2cee.d\"><div id=\"f7\"><span class=\"0c8e.c\"><span class=\"pos\"><span class=\"arrowUpDn\">▲</span>114.000</span></span></div></span>,\n",
       " <span class=\"0c8e.c\"><span class=\"pos\"><span class=\"arrowUpDn\">▲</span>114.000</span></span>,\n",
       " <span class=\"pos\"><span class=\"arrowUpDn\">▲</span>114.000</span>,\n",
       " <span class=\"arrowUpDn\">▲</span>,\n",
       " <span class=\"casvcm\"></span>,\n",
       " <span class=\"pos\"><span class=\"arrowUpDn\">▲</span>4.000</span>,\n",
       " <span class=\"arrowUpDn\">▲</span>,\n",
       " <span class=\"pos\"><span class=\"arrowUpDn\">▲</span>3.636</span>,\n",
       " <span class=\"arrowUpDn\">▲</span>,\n",
       " <span class=\"pos\"><span style=\"font-size:20px\">%</span></span>,\n",
       " <span style=\"font-size:20px\">%</span>,\n",
       " <span class=\"unit\">千萬</span>,\n",
       " <span class=\"unit\">億</span>,\n",
       " <span class=\"cls\">2022/01/31 12:08</span>,\n",
       " <span class=\"pos\">+4.000</span>,\n",
       " <span class=\"pos\">+3.636%</span>,\n",
       " <span class=\"market\">US</span>]"
      ]
     },
     "execution_count": 31,
     "metadata": {},
     "output_type": "execute_result"
    }
   ],
   "source": [
    "soup.select(\".content span\")"
   ]
  },
  {
   "cell_type": "code",
   "execution_count": 32,
   "id": "0ee5f87b",
   "metadata": {},
   "outputs": [
    {
     "data": {
      "text/plain": [
       "<span class=\"1a3a2cee.d\"><div id=\"f7\"><span class=\"0c8e.c\"><span class=\"pos\"><span class=\"arrowUpDn\">▲</span>114.000</span></span></div></span>"
      ]
     },
     "execution_count": 32,
     "metadata": {},
     "output_type": "execute_result"
    }
   ],
   "source": [
    "soup.select(\".content span\")[6]"
   ]
  },
  {
   "cell_type": "code",
   "execution_count": 33,
   "id": "125ebd1f",
   "metadata": {},
   "outputs": [
    {
     "data": {
      "text/plain": [
       "'▲114.000'"
      ]
     },
     "execution_count": 33,
     "metadata": {},
     "output_type": "execute_result"
    }
   ],
   "source": [
    "soup.select(\".content span\")[6].text"
   ]
  },
  {
   "cell_type": "code",
   "execution_count": 34,
   "id": "17b8f615",
   "metadata": {},
   "outputs": [
    {
     "data": {
      "text/plain": [
       "'114.000'"
      ]
     },
     "execution_count": 34,
     "metadata": {},
     "output_type": "execute_result"
    }
   ],
   "source": [
    "soup.select(\".content span\")[6].text[1:]"
   ]
  },
  {
   "cell_type": "code",
   "execution_count": 35,
   "id": "9ba4f9d7",
   "metadata": {},
   "outputs": [],
   "source": [
    "Price = soup.select(\".content span\")[6].text[1:]"
   ]
  },
  {
   "cell_type": "code",
   "execution_count": 36,
   "id": "bdb4e647",
   "metadata": {},
   "outputs": [
    {
     "data": {
      "text/plain": [
       "'114.000'"
      ]
     },
     "execution_count": 36,
     "metadata": {},
     "output_type": "execute_result"
    }
   ],
   "source": [
    "Price"
   ]
  },
  {
   "cell_type": "markdown",
   "id": "261518de",
   "metadata": {},
   "source": [
    "### Extract Multiple Stock Prices Using Function"
   ]
  },
  {
   "cell_type": "code",
   "execution_count": 37,
   "id": "6b4e931c",
   "metadata": {},
   "outputs": [],
   "source": [
    "def getStockPrice(num):\n",
    "    url = 'http://www.aastocks.com/tc/stocks/quote/quick-quote.aspx?symbol={}'.format(num)\n",
    "    session = requests.session()\n",
    "    headers = {\n",
    "    \"User-Agent\":\"Mozilla/5.0 (Macintosh; Intel Mac OS X 10_15_7) AppleWebKit/537.36 (KHTML, like Gecko) Chrome/96.0.4664.110 Safari/537.36\",\n",
    "\n",
    "    \"Referer\":\"http://www.aastocks.com/tc/\"\n",
    "    }\n",
    "    req = session.get(url, headers = headers)\n",
    "    soup = BeautifulSoup(req.text)\n",
    "    return soup.select(\".content span\")[6].text[1:]"
   ]
  },
  {
   "cell_type": "code",
   "execution_count": 38,
   "id": "aaad099a",
   "metadata": {},
   "outputs": [
    {
     "name": "stdout",
     "output_type": "stream",
     "text": [
      "9988 : 114.000\n",
      "700 : 472.000\n",
      "3690 : 219.600\n",
      "5 : 55.150\n"
     ]
    }
   ],
   "source": [
    "stock = ['9988','700','3690','5']\n",
    "\n",
    "for stockNum in stock:\n",
    "    print('{} : {}'.format(stockNum, getStockPrice(stockNum)))"
   ]
  },
  {
   "cell_type": "markdown",
   "id": "c721f8ec",
   "metadata": {},
   "source": [
    "### Create csv and Insert data into csv"
   ]
  },
  {
   "cell_type": "code",
   "execution_count": 39,
   "id": "3c29993d",
   "metadata": {},
   "outputs": [],
   "source": [
    "#Set today date\n",
    "today = ('{}-{}-{}').format(now.year,now.month,now.day)"
   ]
  },
  {
   "cell_type": "code",
   "execution_count": 40,
   "id": "7dfcc2b8",
   "metadata": {},
   "outputs": [],
   "source": [
    "header = ['Date','Stock Name','Closing Price']\n",
    "data = [today,StockName,Price]\n",
    "\n",
    "with open('StockPriceWebScrapper.csv', 'w',newline='',encoding='UTF8') as f:\n",
    "    writer = csv.writer(f)\n",
    "    writer.writerow(header)\n",
    "    writer.writerow(data)"
   ]
  },
  {
   "cell_type": "code",
   "execution_count": 41,
   "id": "3c7d3667",
   "metadata": {},
   "outputs": [
    {
     "data": {
      "text/html": [
       "<div>\n",
       "<style scoped>\n",
       "    .dataframe tbody tr th:only-of-type {\n",
       "        vertical-align: middle;\n",
       "    }\n",
       "\n",
       "    .dataframe tbody tr th {\n",
       "        vertical-align: top;\n",
       "    }\n",
       "\n",
       "    .dataframe thead th {\n",
       "        text-align: right;\n",
       "    }\n",
       "</style>\n",
       "<table border=\"1\" class=\"dataframe\">\n",
       "  <thead>\n",
       "    <tr style=\"text-align: right;\">\n",
       "      <th></th>\n",
       "      <th>Date</th>\n",
       "      <th>Stock Name</th>\n",
       "      <th>Closing Price</th>\n",
       "    </tr>\n",
       "  </thead>\n",
       "  <tbody>\n",
       "    <tr>\n",
       "      <th>0</th>\n",
       "      <td>2022-2-3</td>\n",
       "      <td>阿里巴巴－ＳＷ</td>\n",
       "      <td>114.0</td>\n",
       "    </tr>\n",
       "  </tbody>\n",
       "</table>\n",
       "</div>"
      ],
      "text/plain": [
       "       Date Stock Name  Closing Price\n",
       "0  2022-2-3    阿里巴巴－ＳＷ          114.0"
      ]
     },
     "execution_count": 41,
     "metadata": {},
     "output_type": "execute_result"
    }
   ],
   "source": [
    "import pandas as pd\n",
    "pd.read_csv('StockPriceWebScrapper.csv')"
   ]
  },
  {
   "cell_type": "markdown",
   "id": "0b067092",
   "metadata": {},
   "source": [
    "### Check The Price Everyday Using Time Library and Append to the csv file"
   ]
  },
  {
   "cell_type": "code",
   "execution_count": 42,
   "id": "2591045a",
   "metadata": {},
   "outputs": [],
   "source": [
    "### Append data to the csv\n",
    "\n",
    "with open('StockPriceWebScrapper.csv', 'a+',newline='',encoding='UTF8') as f:\n",
    "    writer = csv.writer(f)\n",
    "    writer.writerow(data)"
   ]
  },
  {
   "cell_type": "code",
   "execution_count": 43,
   "id": "14603264",
   "metadata": {},
   "outputs": [],
   "source": [
    "def check_price():\n",
    "    url = 'http://www.aastocks.com/tc/stocks/quote/quick-quote.aspx?symbol=09988'\n",
    "    headers = {\n",
    "        \"User-Agent\":\"Mozilla/5.0 (Macintosh; Intel Mac OS X 10_15_7) AppleWebKit/537.36 (KHTML, like Gecko) Chrome/96.0.4664.110 Safari/537.36\",\n",
    "        \"Referer\":\"http://www.aastocks.com/tc/\"}\n",
    "    session = requests.session()\n",
    "    req = session.get(url, headers = headers)\n",
    "    soup = BeautifulSoup(req.text)\n",
    "    StockName = soup.find('a',{'class':'a17 cls'}).text.strip()\n",
    "    Price = soup.select(\".content span\")[6].text[1:]\n",
    "    \n",
    "    from datetime import datetime\n",
    "    now = datetime.now()\n",
    "    today = ('{}-{}-{}').format(now.year,now.month,now.day)\n",
    "    \n",
    "    import csv\n",
    "    header = ['Date','Stock Name','Closing Price']\n",
    "    data = [today,StockName,Price]\n",
    "    \n",
    "    with open('StockPriceWebScrapper.csv', 'a+',newline='',encoding='UTF8') as f:\n",
    "        writer = csv.writer(f)\n",
    "        writer.writerow(data)"
   ]
  },
  {
   "cell_type": "code",
   "execution_count": 44,
   "id": "e4daea4b",
   "metadata": {},
   "outputs": [
    {
     "ename": "KeyboardInterrupt",
     "evalue": "",
     "output_type": "error",
     "traceback": [
      "\u001b[0;31m---------------------------------------------------------------------------\u001b[0m",
      "\u001b[0;31mKeyboardInterrupt\u001b[0m                         Traceback (most recent call last)",
      "\u001b[0;32m<ipython-input-44-dcf51bac0ef8>\u001b[0m in \u001b[0;36m<module>\u001b[0;34m\u001b[0m\n\u001b[1;32m      4\u001b[0m \u001b[0;32mwhile\u001b[0m\u001b[0;34m(\u001b[0m\u001b[0;32mTrue\u001b[0m\u001b[0;34m)\u001b[0m\u001b[0;34m:\u001b[0m\u001b[0;34m\u001b[0m\u001b[0;34m\u001b[0m\u001b[0m\n\u001b[1;32m      5\u001b[0m     \u001b[0mcheck_price\u001b[0m\u001b[0;34m(\u001b[0m\u001b[0;34m)\u001b[0m\u001b[0;34m\u001b[0m\u001b[0;34m\u001b[0m\u001b[0m\n\u001b[0;32m----> 6\u001b[0;31m     \u001b[0mtime\u001b[0m\u001b[0;34m.\u001b[0m\u001b[0msleep\u001b[0m\u001b[0;34m(\u001b[0m\u001b[0;36m86400\u001b[0m\u001b[0;34m)\u001b[0m\u001b[0;34m\u001b[0m\u001b[0;34m\u001b[0m\u001b[0m\n\u001b[0m",
      "\u001b[0;31mKeyboardInterrupt\u001b[0m: "
     ]
    }
   ],
   "source": [
    "# Put on timer and check price once a day\n",
    "# There are 60*60*24 = 86400 seconds per day\n",
    "\n",
    "while(True):\n",
    "    check_price()\n",
    "    time.sleep(86400)"
   ]
  }
 ],
 "metadata": {
  "kernelspec": {
   "display_name": "Python 3",
   "language": "python",
   "name": "python3"
  },
  "language_info": {
   "codemirror_mode": {
    "name": "ipython",
    "version": 3
   },
   "file_extension": ".py",
   "mimetype": "text/x-python",
   "name": "python",
   "nbconvert_exporter": "python",
   "pygments_lexer": "ipython3",
   "version": "3.8.8"
  }
 },
 "nbformat": 4,
 "nbformat_minor": 5
}
